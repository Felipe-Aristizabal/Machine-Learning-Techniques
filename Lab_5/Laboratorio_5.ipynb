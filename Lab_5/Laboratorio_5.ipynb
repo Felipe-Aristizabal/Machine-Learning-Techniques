{
  "cells": [
    {
      "cell_type": "markdown",
      "metadata": {
        "id": "view-in-github",
        "colab_type": "text"
      },
      "source": [
        "<a href=\"https://colab.research.google.com/github/hectormelo/Machine-Learning-Techniques/blob/main/Lab_5/Laboratorio_5.ipynb\" target=\"_parent\"><img src=\"https://colab.research.google.com/assets/colab-badge.svg\" alt=\"Open In Colab\"/></a>"
      ]
    },
    {
      "cell_type": "markdown",
      "source": [
        "\n",
        "<img src=\"https://raw.githubusercontent.com/hectormelo/Machine-Learning-Techniques/main/Banner.png\" ><br>\n",
        "# Machine Learning Techniques - MISIS4219\n",
        "\n",
        "Primer semestre - 2024"
      ],
      "metadata": {
        "id": "gX68jANH0FwN"
      },
      "id": "gX68jANH0FwN"
    },
    {
      "cell_type": "markdown",
      "id": "quantitative-piano",
      "metadata": {
        "id": "quantitative-piano"
      },
      "source": [
        "# A first look at a neural network"
      ]
    },
    {
      "cell_type": "markdown",
      "id": "caroline-sharp",
      "metadata": {
        "id": "caroline-sharp"
      },
      "source": [
        "Problem: The problem we’re trying to solve here is to classify grayscale images of handwritten digits (28 × 28 pixels) into their 10 categories (0 through 9).\n",
        "\n",
        "We’ll use the MNIST dataset, It’s a set of 60,000 training images, plus 10,000 test images, assembled by the National Institute of Standards and Technology (the NIST in MNIST) in the 1980s.\n"
      ]
    },
    {
      "cell_type": "code",
      "execution_count": 1,
      "id": "promotional-occupation",
      "metadata": {
        "colab": {
          "base_uri": "https://localhost:8080/"
        },
        "id": "promotional-occupation",
        "outputId": "33a40903-3e42-448f-99e7-85d4f4515fd2"
      },
      "outputs": [
        {
          "output_type": "stream",
          "name": "stdout",
          "text": [
            "Downloading data from https://storage.googleapis.com/tensorflow/tf-keras-datasets/mnist.npz\n",
            "11490434/11490434 [==============================] - 0s 0us/step\n"
          ]
        }
      ],
      "source": [
        "from keras.datasets import mnist\n",
        "#(train_images, train_labels), (test_images, test_labels) = mnist.load_data()\n",
        "(train_data, train_data_labels), (test_data, test_data_labels) = mnist.load_data()"
      ]
    },
    {
      "cell_type": "markdown",
      "id": "female-compilation",
      "metadata": {
        "id": "female-compilation"
      },
      "source": [
        "## Let’s look at the training data:"
      ]
    },
    {
      "cell_type": "code",
      "execution_count": null,
      "id": "relevant-lesbian",
      "metadata": {
        "id": "relevant-lesbian",
        "outputId": "5928d5b4-e849-4683-e8c6-45b632a96bc5"
      },
      "outputs": [
        {
          "data": {
            "text/plain": [
              "(60000, 28, 28)"
            ]
          },
          "execution_count": 2,
          "metadata": {},
          "output_type": "execute_result"
        }
      ],
      "source": [
        "train_data.shape"
      ]
    },
    {
      "cell_type": "code",
      "execution_count": null,
      "id": "historical-opening",
      "metadata": {
        "id": "historical-opening",
        "outputId": "184694d1-c176-4ca5-8ab6-445d873a0629"
      },
      "outputs": [
        {
          "data": {
            "text/plain": [
              "60000"
            ]
          },
          "execution_count": 3,
          "metadata": {},
          "output_type": "execute_result"
        }
      ],
      "source": [
        "len(train_data_labels)"
      ]
    },
    {
      "cell_type": "code",
      "execution_count": null,
      "id": "verified-brush",
      "metadata": {
        "id": "verified-brush",
        "outputId": "69fad76e-07c4-4471-d26f-b00ff4ae0203"
      },
      "outputs": [
        {
          "data": {
            "text/plain": [
              "array([5, 0, 4, ..., 5, 6, 8], dtype=uint8)"
            ]
          },
          "execution_count": 4,
          "metadata": {},
          "output_type": "execute_result"
        }
      ],
      "source": [
        "train_data_labels"
      ]
    },
    {
      "cell_type": "code",
      "execution_count": null,
      "id": "6396b6d5-46ff-4a2a-b57c-6cf029a46bf8",
      "metadata": {
        "id": "6396b6d5-46ff-4a2a-b57c-6cf029a46bf8",
        "outputId": "f53ee185-1834-4c98-8ee1-cb121cb91d8d"
      },
      "outputs": [
        {
          "data": {
            "image/png": "[encoded data removed]",
            "text/plain": [
              "<Figure size 432x288 with 1 Axes>"
            ]
          },
          "metadata": {
            "needs_background": "light"
          },
          "output_type": "display_data"
        }
      ],
      "source": [
        "import matplotlib.pyplot as plt\n",
        "plt.imshow(train_data[4], cmap=plt.cm.binary)\n",
        "plt.show()"
      ]
    },
    {
      "cell_type": "code",
      "execution_count": null,
      "id": "1e9cbd3c-6054-4736-b691-296ab036b661",
      "metadata": {
        "id": "1e9cbd3c-6054-4736-b691-296ab036b661",
        "outputId": "8ca62647-a7ad-46f6-b255-6c60d99bd818"
      },
      "outputs": [
        {
          "data": {
            "text/plain": [
              "9"
            ]
          },
          "execution_count": 6,
          "metadata": {},
          "output_type": "execute_result"
        }
      ],
      "source": [
        "train_data_labels[4]"
      ]
    },
    {
      "cell_type": "markdown",
      "id": "dominican-summary",
      "metadata": {
        "id": "dominican-summary"
      },
      "source": [
        "## And here’s the test data"
      ]
    },
    {
      "cell_type": "code",
      "execution_count": null,
      "id": "thirty-meeting",
      "metadata": {
        "id": "thirty-meeting",
        "outputId": "e95a3aab-9455-4c12-f77d-84f6130aadf8"
      },
      "outputs": [
        {
          "data": {
            "text/plain": [
              "(10000, 28, 28)"
            ]
          },
          "execution_count": 10,
          "metadata": {},
          "output_type": "execute_result"
        }
      ],
      "source": [
        "test_data.shape"
      ]
    },
    {
      "cell_type": "code",
      "execution_count": null,
      "id": "intelligent-avatar",
      "metadata": {
        "id": "intelligent-avatar",
        "outputId": "7d0b1164-2089-405d-9a58-8f1a6b25346c"
      },
      "outputs": [
        {
          "data": {
            "text/plain": [
              "10000"
            ]
          },
          "execution_count": 11,
          "metadata": {},
          "output_type": "execute_result"
        }
      ],
      "source": [
        "len(test_data_labels)"
      ]
    },
    {
      "cell_type": "code",
      "execution_count": null,
      "id": "willing-question",
      "metadata": {
        "id": "willing-question",
        "outputId": "a02e6172-a75d-413f-a477-f2fbf56525e1"
      },
      "outputs": [
        {
          "data": {
            "text/plain": [
              "array([7, 2, 1, ..., 4, 5, 6], dtype=uint8)"
            ]
          },
          "execution_count": 12,
          "metadata": {},
          "output_type": "execute_result"
        }
      ],
      "source": [
        "test_data_labels"
      ]
    },
    {
      "cell_type": "markdown",
      "id": "616fa162-0158-448e-9047-c1f39b43acd5",
      "metadata": {
        "id": "616fa162-0158-448e-9047-c1f39b43acd5"
      },
      "source": [
        "## Validation dataset"
      ]
    },
    {
      "cell_type": "code",
      "execution_count": null,
      "id": "804aa42e-3b2e-4f60-b414-0799c536cb96",
      "metadata": {
        "id": "804aa42e-3b2e-4f60-b414-0799c536cb96",
        "outputId": "d6397f40-a207-47cf-9be8-121b47366d67"
      },
      "outputs": [
        {
          "name": "stdout",
          "output_type": "stream",
          "text": [
            "Validation:  (10000, 28, 28)\n",
            "Training:  (50000, 28, 28)\n",
            "Testing:  (50000, 28, 28)\n"
          ]
        }
      ],
      "source": [
        "# Validación\n",
        "val_images = train_data[:10000,:]\n",
        "val_labels = train_data_labels[:10000]\n",
        "print(\"Validation: \", val_images.shape)\n",
        "\n",
        "#Training\n",
        "train_images = train_data[10000:,:]\n",
        "train_labels = train_data_labels[10000:]\n",
        "print(\"Training: \", train_images.shape)\n",
        "\n",
        "#Testing\n",
        "test_images = test_data\n",
        "test_labels = test_data_labels\n",
        "print(\"Testing: \", train_images.shape)"
      ]
    },
    {
      "cell_type": "markdown",
      "id": "altered-return",
      "metadata": {
        "id": "altered-return"
      },
      "source": [
        "## The network architecture"
      ]
    },
    {
      "cell_type": "markdown",
      "id": "sudden-radiation",
      "metadata": {
        "id": "sudden-radiation"
      },
      "source": [
        "#### Layers extract representations out of the data fed into them — hopefully\n",
        "#### Most of deep learning consists of chaining together simple layers that will implement a form of progressive data distillation\n",
        "#### A deep-learning model is like a sieve for data processing, made of a succession of increasingly refined data filters — the layers"
      ]
    },
    {
      "cell_type": "code",
      "execution_count": null,
      "id": "certified-yield",
      "metadata": {
        "id": "certified-yield"
      },
      "outputs": [],
      "source": [
        "from tensorflow.keras import models\n",
        "from tensorflow.keras import layers\n",
        "model = models.Sequential([\n",
        "    layers.Dense(512, activation='relu'),\n",
        "    layers.Dense(10, activation='softmax')\n",
        "])\n",
        "\n",
        "# Here, our model consists of a sequence of two Dense layers, which are densely connected (also\n",
        "# called fully connected) neural layers. The second (and last) layer is a 10-way softmax\n",
        "# classification layer, which means it will return an array of 10 probability scores (summing to 1)."
      ]
    },
    {
      "cell_type": "markdown",
      "id": "incorporate-cursor",
      "metadata": {
        "id": "incorporate-cursor"
      },
      "source": [
        "To make the model ready for training, we need to pick three more things, as part of the compilation step:\n",
        "* An optimizer — The mechanism through which the model will update itself based on the training data it sees, so as to improve its performance.\n",
        "* A loss function — How the model will be able to measure its performance on the training data, and thus how it will be able to steer itself in the right direction.\n",
        "* Metrics to monitor during training and testing — Here, we’ll only care about accuracy (the fraction of the images that were correctly classified)."
      ]
    },
    {
      "cell_type": "markdown",
      "id": "cooked-antarctica",
      "metadata": {
        "id": "cooked-antarctica"
      },
      "source": [
        "# The compilation step"
      ]
    },
    {
      "cell_type": "markdown",
      "id": "2ada4f7c-5219-47e7-b25d-57e796095966",
      "metadata": {
        "id": "2ada4f7c-5219-47e7-b25d-57e796095966"
      },
      "source": [
        "The compile() method configures the training process\n",
        "\n",
        "<code>model.compile(optimizer='rmsprop',\n",
        "loss='mean_squared_error',\n",
        "metrics=['accuracy'])</code>\n"
      ]
    },
    {
      "cell_type": "markdown",
      "id": "5916b46c-1eec-41f9-9832-71a048cc9af4",
      "metadata": {
        "id": "5916b46c-1eec-41f9-9832-71a048cc9af4"
      },
      "source": [
        "![compiler.png](https://raw.githubusercontent.com/hectormelo/Machine-Learning-Techniques/63d050457c26f88265bbd9c74323a3d5509dbdca/Lab_5/images/compiler.png)"
      ]
    },
    {
      "cell_type": "code",
      "execution_count": null,
      "id": "cellular-wright",
      "metadata": {
        "id": "cellular-wright"
      },
      "outputs": [],
      "source": [
        "model.compile(optimizer='rmsprop',\n",
        "loss='sparse_categorical_crossentropy',\n",
        "metrics=['accuracy'])"
      ]
    },
    {
      "cell_type": "markdown",
      "id": "julian-space",
      "metadata": {
        "id": "julian-space"
      },
      "source": [
        "### Normalization and flattened - Why we need normalization?\n",
        "\n",
        "Previously, our training images, for instance, were stored in an array of shape (60000, 28, 28) of type uint8 with values in the [0, 255] interval. We transform it into a float32 array of shape (60000, 28 * 28) with values between 0 and 1."
      ]
    },
    {
      "cell_type": "code",
      "execution_count": null,
      "id": "numeric-singapore",
      "metadata": {
        "id": "numeric-singapore"
      },
      "outputs": [],
      "source": [
        "train_images = train_images.reshape((50000, 28 * 28))\n",
        "train_images = train_images.astype('float32') / 255\n",
        "test_images = test_images.reshape((10000, 28 * 28))\n",
        "test_images = test_images.astype('float32') / 255\n",
        "val_images = val_images.reshape((10000, 28 * 28))\n",
        "val_images = val_images.astype('float32') / 255"
      ]
    },
    {
      "cell_type": "code",
      "execution_count": null,
      "id": "least-chinese",
      "metadata": {
        "id": "least-chinese",
        "outputId": "ec852218-dae6-46c1-83c8-9680b0d706d7"
      },
      "outputs": [
        {
          "data": {
            "text/plain": [
              "(50000, 784)"
            ]
          },
          "execution_count": 19,
          "metadata": {},
          "output_type": "execute_result"
        }
      ],
      "source": [
        "train_images.shape"
      ]
    },
    {
      "cell_type": "markdown",
      "id": "further-sauce",
      "metadata": {
        "id": "further-sauce"
      },
      "source": [
        "#### We’re now ready to train the model, which in Keras is done via a call to the model’s fit method"
      ]
    },
    {
      "cell_type": "code",
      "execution_count": null,
      "id": "infectious-property",
      "metadata": {
        "id": "infectious-property",
        "outputId": "3e706223-bea8-4285-b1d8-b1f45ed42643"
      },
      "outputs": [
        {
          "name": "stdout",
          "output_type": "stream",
          "text": [
            "Epoch 1/20\n",
            "391/391 [==============================] - 1s 3ms/step - loss: 9.4115e-05 - accuracy: 1.0000 - val_loss: 0.1563 - val_accuracy: 0.9788\n",
            "Epoch 2/20\n",
            "391/391 [==============================] - 1s 4ms/step - loss: 2.1443e-04 - accuracy: 1.0000 - val_loss: 0.1354 - val_accuracy: 0.9828\n",
            "Epoch 3/20\n",
            "391/391 [==============================] - 1s 3ms/step - loss: 1.1277e-04 - accuracy: 1.0000 - val_loss: 0.1412 - val_accuracy: 0.9823\n",
            "Epoch 4/20\n",
            "391/391 [==============================] - 1s 3ms/step - loss: 4.7237e-05 - accuracy: 1.0000 - val_loss: 0.1429 - val_accuracy: 0.9826\n",
            "Epoch 5/20\n",
            "391/391 [==============================] - 1s 3ms/step - loss: 1.1889e-04 - accuracy: 1.0000 - val_loss: 0.1475 - val_accuracy: 0.9817\n",
            "Epoch 6/20\n",
            "391/391 [==============================] - 1s 4ms/step - loss: 1.2775e-05 - accuracy: 1.0000 - val_loss: 0.1443 - val_accuracy: 0.9822\n",
            "Epoch 7/20\n",
            "391/391 [==============================] - 1s 3ms/step - loss: 8.8031e-05 - accuracy: 1.0000 - val_loss: 0.1513 - val_accuracy: 0.9814\n",
            "Epoch 8/20\n",
            "391/391 [==============================] - 1s 4ms/step - loss: 1.3725e-05 - accuracy: 1.0000 - val_loss: 0.1458 - val_accuracy: 0.9831\n",
            "Epoch 9/20\n",
            "391/391 [==============================] - 1s 3ms/step - loss: 4.0421e-06 - accuracy: 1.0000 - val_loss: 0.1556 - val_accuracy: 0.9814\n",
            "Epoch 10/20\n",
            "391/391 [==============================] - 1s 3ms/step - loss: 8.7551e-07 - accuracy: 1.0000 - val_loss: 0.1573 - val_accuracy: 0.9819\n",
            "Epoch 11/20\n",
            "391/391 [==============================] - 2s 4ms/step - loss: 2.0905e-06 - accuracy: 1.0000 - val_loss: 0.1558 - val_accuracy: 0.9821\n",
            "Epoch 12/20\n",
            "391/391 [==============================] - 1s 3ms/step - loss: 6.2306e-07 - accuracy: 1.0000 - val_loss: 0.1561 - val_accuracy: 0.9824\n",
            "Epoch 13/20\n",
            "391/391 [==============================] - 1s 3ms/step - loss: 4.4807e-07 - accuracy: 1.0000 - val_loss: 0.1584 - val_accuracy: 0.9825\n",
            "Epoch 14/20\n",
            "391/391 [==============================] - 2s 4ms/step - loss: 1.9284e-07 - accuracy: 1.0000 - val_loss: 0.1592 - val_accuracy: 0.9825\n",
            "Epoch 15/20\n",
            "391/391 [==============================] - 1s 3ms/step - loss: 3.2525e-08 - accuracy: 1.0000 - val_loss: 0.1605 - val_accuracy: 0.9827\n",
            "Epoch 16/20\n",
            "391/391 [==============================] - 1s 3ms/step - loss: 2.6016e-08 - accuracy: 1.0000 - val_loss: 0.1613 - val_accuracy: 0.9818\n",
            "Epoch 17/20\n",
            "391/391 [==============================] - 1s 4ms/step - loss: 2.1658e-08 - accuracy: 1.0000 - val_loss: 0.1616 - val_accuracy: 0.9821\n",
            "Epoch 18/20\n",
            "391/391 [==============================] - 1s 3ms/step - loss: 1.9288e-08 - accuracy: 1.0000 - val_loss: 0.1623 - val_accuracy: 0.9821\n",
            "Epoch 19/20\n",
            "391/391 [==============================] - 1s 3ms/step - loss: 1.7710e-08 - accuracy: 1.0000 - val_loss: 0.1625 - val_accuracy: 0.9824\n",
            "Epoch 20/20\n",
            "391/391 [==============================] - 1s 4ms/step - loss: 1.6532e-08 - accuracy: 1.0000 - val_loss: 0.1628 - val_accuracy: 0.9823\n"
          ]
        }
      ],
      "source": [
        "history = model.fit(train_images, train_labels, epochs=20, batch_size=128 , validation_data=(val_images, val_labels))"
      ]
    },
    {
      "cell_type": "markdown",
      "id": "fluid-germany",
      "metadata": {
        "id": "fluid-germany"
      },
      "source": [
        "#### Two quantities are displayed during training:\n",
        "* the loss of the model over the training data}\n",
        "* the accuracy of the model over the training data"
      ]
    },
    {
      "cell_type": "code",
      "execution_count": null,
      "id": "0021df2e-f335-4cee-9e3d-a717cc40573c",
      "metadata": {
        "id": "0021df2e-f335-4cee-9e3d-a717cc40573c",
        "outputId": "c376cccd-580c-4642-f42f-ad1d4d5ef348"
      },
      "outputs": [
        {
          "data": {
            "image/png": "[encoded data removed]",
            "text/plain": [
              "<Figure size 432x288 with 1 Axes>"
            ]
          },
          "metadata": {
            "needs_background": "light"
          },
          "output_type": "display_data"
        }
      ],
      "source": [
        "## Plotting the training and validation loss:\n",
        "import matplotlib.pyplot as plt\n",
        "history_dict = history.history\n",
        "loss_values = history_dict['loss']\n",
        "val_loss_values = history_dict['val_loss']\n",
        "epochs = range(1, len(loss_values) + 1)\n",
        "plt.plot(epochs, loss_values, 'r', label='Training loss')\n",
        "plt.plot(epochs, val_loss_values, 'b', label='Validation loss')\n",
        "plt.title('Training and validation loss')\n",
        "plt.xlabel('Epochs')\n",
        "plt.ylabel('Loss')\n",
        "plt.legend()\n",
        "plt.show()"
      ]
    },
    {
      "cell_type": "code",
      "execution_count": null,
      "id": "4563187b-a321-41a7-accc-57b2f022ad84",
      "metadata": {
        "id": "4563187b-a321-41a7-accc-57b2f022ad84",
        "outputId": "3f82bb4c-d582-44c4-b29e-2efc62bc4ce4"
      },
      "outputs": [
        {
          "data": {
            "image/png": "[encoded data removed]",
            "text/plain": [
              "<Figure size 432x288 with 1 Axes>"
            ]
          },
          "metadata": {
            "needs_background": "light"
          },
          "output_type": "display_data"
        }
      ],
      "source": [
        "## Plotting the training and validation accuracy:\n",
        "##----------------------------------------------\n",
        "plt.clf()\n",
        "acc = history_dict['accuracy']\n",
        "val_acc = history_dict['val_accuracy']\n",
        "plt.plot(epochs, acc, 'r', label='Training acc')\n",
        "plt.plot(epochs, val_acc, 'b', label='Validation acc')\n",
        "plt.title('Training and validation accuracy')\n",
        "plt.xlabel('Epochs')\n",
        "plt.ylabel('Accuracy')\n",
        "plt.legend()\n",
        "plt.show()"
      ]
    },
    {
      "cell_type": "markdown",
      "id": "f6eca396-ebf8-4805-83f1-2b4230273938",
      "metadata": {
        "id": "f6eca396-ebf8-4805-83f1-2b4230273938"
      },
      "source": [
        "![Overfitting.png](https://raw.githubusercontent.com/hectormelo/Machine-Learning-Techniques/63d050457c26f88265bbd9c74323a3d5509dbdca/Lab_5/images/OVerfitting.png)"
      ]
    },
    {
      "cell_type": "code",
      "execution_count": null,
      "id": "159a9931-18fa-468d-954d-0e01cb6c0982",
      "metadata": {
        "id": "159a9931-18fa-468d-954d-0e01cb6c0982",
        "outputId": "b95cdd9f-c48a-47cf-83bf-f8058de567f7"
      },
      "outputs": [
        {
          "name": "stdout",
          "output_type": "stream",
          "text": [
            "Model: \"sequential\"\n",
            "_________________________________________________________________\n",
            " Layer (type)                Output Shape              Param #   \n",
            "=================================================================\n",
            " dense (Dense)               (None, 512)               401920    \n",
            "                                                                 \n",
            " dense_1 (Dense)             (None, 10)                5130      \n",
            "                                                                 \n",
            "=================================================================\n",
            "Total params: 407,050\n",
            "Trainable params: 407,050\n",
            "Non-trainable params: 0\n",
            "_________________________________________________________________\n"
          ]
        }
      ],
      "source": [
        "model.summary()"
      ]
    },
    {
      "cell_type": "code",
      "execution_count": null,
      "id": "65fda88f-c230-4d3c-a19c-7ba4a7d7ee74",
      "metadata": {
        "id": "65fda88f-c230-4d3c-a19c-7ba4a7d7ee74",
        "outputId": "0f428d9d-23c5-4103-f863-68f81fa096fa"
      },
      "outputs": [
        {
          "data": {
            "text/plain": [
              "[<tf.Variable 'dense/kernel:0' shape=(784, 512) dtype=float32, numpy=\n",
              " array([[ 0.05811888,  0.04509299,  0.00270712, ...,  0.03765269,\n",
              "         -0.06040028,  0.05417474],\n",
              "        [ 0.02577528, -0.00878131,  0.05641852, ...,  0.03059413,\n",
              "         -0.02965935, -0.0667793 ],\n",
              "        [ 0.00714118, -0.03349832, -0.00773904, ..., -0.03689748,\n",
              "         -0.06007392,  0.04917642],\n",
              "        ...,\n",
              "        [-0.04498671, -0.00861797,  0.05772537, ..., -0.00535517,\n",
              "         -0.03892407, -0.04380159],\n",
              "        [ 0.0244019 ,  0.04716511,  0.05790272, ..., -0.02817658,\n",
              "          0.02885389,  0.01668351],\n",
              "        [-0.01397143,  0.04874928,  0.05514184, ..., -0.06795844,\n",
              "          0.03288513, -0.05946378]], dtype=float32)>,\n",
              " <tf.Variable 'dense/bias:0' shape=(512,) dtype=float32, numpy=\n",
              " array([-0.06679834,  0.09521975, -0.0792907 , -0.10710454,  0.02362659,\n",
              "         0.00886257,  0.02669915, -0.00122225, -0.0487694 , -0.0772546 ,\n",
              "        -0.07648868,  0.02510928, -0.07121716, -0.065308  , -0.09568981,\n",
              "        -0.04821764, -0.00360608, -0.10712809, -0.08280914, -0.16340284,\n",
              "         0.19835812, -0.03601712, -0.08840576, -0.10632876,  0.11224756,\n",
              "        -0.08044863, -0.10993642, -0.05137854, -0.06346445,  0.01176787,\n",
              "        -0.09125026,  0.03348372, -0.08864728, -0.03852396, -0.02848052,\n",
              "         0.0395786 , -0.02943522, -0.0308557 , -0.00687835, -0.05813954,\n",
              "        -0.06835006, -0.08688633,  0.03962696, -0.00410008,  0.04618091,\n",
              "        -0.02831269, -0.03723062,  0.04721272, -0.08181451, -0.01348272,\n",
              "        -0.12388836,  0.02616428, -0.01260943,  0.00041593,  0.10994464,\n",
              "        -0.03355496, -0.09992521, -0.03120157, -0.03705503,  0.02889415,\n",
              "        -0.05632591, -0.18940963, -0.0438714 , -0.01582964, -0.04433763,\n",
              "        -0.00991218, -0.0875285 ,  0.09914427, -0.07039183, -0.11573582,\n",
              "        -0.00975534,  0.02650426,  0.05260198,  0.03496361, -0.01614784,\n",
              "        -0.04252164, -0.0110547 ,  0.00064369,  0.00155601, -0.1404373 ,\n",
              "        -0.07745606, -0.00396079,  0.0022023 , -0.04891   ,  0.06294834,\n",
              "        -0.1042832 ,  0.00953997, -0.10521143, -0.07363409,  0.06658875,\n",
              "        -0.06800348,  0.05700972, -0.07709876, -0.00787035, -0.11998097,\n",
              "        -0.02879738, -0.00787482, -0.14134718, -0.02109602, -0.00703498,\n",
              "         0.01367809,  0.07653124, -0.00180301, -0.0532379 , -0.02010305,\n",
              "        -0.07048519, -0.01840447, -0.0696466 , -0.03203109, -0.13519885,\n",
              "         0.04691163, -0.07231718,  0.0477867 ,  0.00678808, -0.0151601 ,\n",
              "        -0.13140951, -0.06423913,  0.07978616, -0.04785319, -0.14375345,\n",
              "        -0.01867072, -0.107372  , -0.02523298, -0.00162177,  0.01085392,\n",
              "         0.10525365, -0.02330426,  0.00465736, -0.12785375,  0.00445794,\n",
              "        -0.02419727, -0.01382484,  0.00208533, -0.15522882, -0.07625708,\n",
              "        -0.09893436,  0.06045764, -0.13890463, -0.11271002, -0.02948559,\n",
              "         0.06336576, -0.12238882, -0.09507939, -0.02130577, -0.08806058,\n",
              "        -0.1580432 ,  0.04219304,  0.07411528, -0.08139531,  0.03121809,\n",
              "         0.03159219,  0.09263036, -0.09491868, -0.075133  ,  0.00386807,\n",
              "        -0.0476326 , -0.01410368,  0.0532494 , -0.05864939, -0.02053322,\n",
              "        -0.01435475,  0.05949038, -0.076152  , -0.06621239, -0.04002394,\n",
              "         0.02522898, -0.17145854, -0.10891774, -0.04688886, -0.11001432,\n",
              "        -0.10221312, -0.00945833,  0.10239605,  0.01962476,  0.03586675,\n",
              "        -0.09453311, -0.11685607, -0.0680519 ,  0.01814867, -0.100812  ,\n",
              "         0.00453408,  0.06684338, -0.0016071 , -0.08055636,  0.00212486,\n",
              "         0.17834884, -0.01096143, -0.06766468, -0.04604466,  0.02981059,\n",
              "        -0.07661118, -0.06841304,  0.06918386,  0.08326488,  0.01736303,\n",
              "         0.06437176,  0.05432835, -0.03978685, -0.03784245, -0.16312699,\n",
              "        -0.03793191,  0.0010892 , -0.01073895,  0.00836128,  0.00032368,\n",
              "        -0.01295051, -0.08701196, -0.02484299,  0.04179617, -0.03402071,\n",
              "        -0.10461926, -0.03754542, -0.0659623 ,  0.02817143, -0.072797  ,\n",
              "        -0.01410892,  0.04297964, -0.1027436 ,  0.02754765, -0.00431919,\n",
              "         0.0832285 ,  0.00649289,  0.05497509, -0.04513719,  0.02474128,\n",
              "        -0.06502371, -0.09802067, -0.05201307, -0.02553494, -0.00318628,\n",
              "         0.02192239, -0.01847439, -0.04428884, -0.12430824, -0.19720383,\n",
              "         0.06336229, -0.00542574,  0.01342646, -0.01386971,  0.03786468,\n",
              "        -0.03396375, -0.04397825,  0.00534156, -0.06961372, -0.01737317,\n",
              "         0.07617354,  0.07539001,  0.01800305,  0.09978833, -0.11893261,\n",
              "         0.02775661, -0.05697099,  0.02753936, -0.05274921,  0.0100678 ,\n",
              "        -0.12312933, -0.0658424 , -0.04248055, -0.22024085, -0.05428932,\n",
              "        -0.02256614, -0.05697727,  0.05970431, -0.11449196,  0.03095146,\n",
              "        -0.01429174,  0.01093095,  0.00837739, -0.10445061, -0.12567063,\n",
              "        -0.02315844, -0.07178242, -0.00914241, -0.04800907, -0.07134155,\n",
              "        -0.11484704, -0.05613885, -0.0741493 , -0.01967605, -0.10503382,\n",
              "         0.06762838, -0.01937145,  0.01146697, -0.0794316 , -0.0129096 ,\n",
              "        -0.07269298, -0.09106492, -0.09539604, -0.05068741, -0.11604704,\n",
              "        -0.05969074,  0.0461463 , -0.07521098, -0.15263481, -0.09823188,\n",
              "         0.01240079,  0.00574304,  0.15839204,  0.01389036,  0.02065691,\n",
              "        -0.06148902,  0.08453501,  0.01676522,  0.00584782, -0.05879742,\n",
              "         0.11086109,  0.01452746, -0.07572978, -0.00197834, -0.03585682,\n",
              "        -0.1272934 ,  0.02868593,  0.0205313 , -0.13311549, -0.0084168 ,\n",
              "        -0.0273831 ,  0.0816917 , -0.04584162, -0.01021795, -0.07503412,\n",
              "         0.01773918,  0.03850373,  0.01685366, -0.0352373 , -0.0624902 ,\n",
              "        -0.02760069, -0.0857619 , -0.11212339, -0.10274319, -0.06860164,\n",
              "         0.01420623,  0.01742402,  0.02200431, -0.12354679, -0.03541758,\n",
              "        -0.05137118, -0.0755206 ,  0.00850113,  0.07674493, -0.01544972,\n",
              "        -0.07946513, -0.10563546,  0.111108  ,  0.01107393, -0.14820498,\n",
              "        -0.10032738, -0.10921841,  0.02357774,  0.04262063,  0.05551128,\n",
              "         0.01949523, -0.0814383 , -0.0312643 , -0.08156345, -0.1035485 ,\n",
              "         0.07501519,  0.00054714, -0.05115063,  0.03646427, -0.04070776,\n",
              "        -0.02221308, -0.08801475, -0.0229561 , -0.1007694 , -0.02680682,\n",
              "         0.00132479, -0.01252838, -0.01582888,  0.03590181,  0.02572384,\n",
              "        -0.03965906,  0.00457172,  0.00186816,  0.05751122,  0.04192709,\n",
              "         0.01152264, -0.03735426, -0.06278372, -0.03042541,  0.04420706,\n",
              "         0.00967553,  0.02547883, -0.07887726, -0.16879366,  0.06234517,\n",
              "        -0.12253159,  0.01689314,  0.07947481, -0.08679854, -0.00458082,\n",
              "        -0.1017157 , -0.0717174 ,  0.11850514,  0.00792253,  0.02519868,\n",
              "        -0.0240337 , -0.0518813 , -0.04603016, -0.00055647,  0.03578484,\n",
              "        -0.05025967, -0.05891312,  0.00379211, -0.00587195, -0.05761764,\n",
              "        -0.16239011, -0.0070769 , -0.0577972 , -0.07187662, -0.01644097,\n",
              "        -0.00561219, -0.11967629,  0.02650635, -0.01732372,  0.01050838,\n",
              "        -0.06578376,  0.03068112,  0.05127751, -0.11896735,  0.04659095,\n",
              "         0.05990212, -0.03271267,  0.00713418, -0.06131545, -0.04892908,\n",
              "         0.0279438 ,  0.00261599, -0.05982369, -0.01459717, -0.00107393,\n",
              "        -0.08075422, -0.05271455, -0.04033966, -0.06245343, -0.04303095,\n",
              "        -0.14766842, -0.01520856,  0.02956937,  0.05855797, -0.04288605,\n",
              "        -0.08012579,  0.00827405,  0.00317379, -0.10581243, -0.06668779,\n",
              "        -0.03394081, -0.03999273, -0.03550378, -0.0284965 , -0.14068364,\n",
              "         0.06525342, -0.0910015 , -0.01926688, -0.06890488, -0.02791262,\n",
              "        -0.19760223, -0.01610155, -0.15821859, -0.02538791,  0.04131962,\n",
              "         0.09322385, -0.03195944,  0.00914081, -0.14237536, -0.0172174 ,\n",
              "        -0.11363265, -0.00638369, -0.12457363, -0.05019606, -0.06709301,\n",
              "        -0.07093176, -0.00524242, -0.05802675, -0.02228131, -0.03298001,\n",
              "         0.03078304, -0.17619321, -0.04297195, -0.06865742, -0.09752415,\n",
              "        -0.11863194,  0.0444161 , -0.00764649, -0.07021322,  0.01149585,\n",
              "        -0.00391321, -0.14736162,  0.01762518, -0.0257459 , -0.02997219,\n",
              "        -0.10190709, -0.125111  , -0.01633809, -0.08091192, -0.02696992,\n",
              "        -0.08817558,  0.04400773, -0.08532477, -0.09587585, -0.08515274,\n",
              "        -0.10183136, -0.02726044, -0.05849375, -0.13873956, -0.0857005 ,\n",
              "         0.00930452, -0.09803186, -0.05834263, -0.07487848,  0.07268064,\n",
              "        -0.01489785, -0.00577923], dtype=float32)>,\n",
              " <tf.Variable 'dense_1/kernel:0' shape=(512, 10) dtype=float32, numpy=\n",
              " array([[-0.1394552 , -0.26130584, -0.21904343, ..., -0.03271125,\n",
              "         -0.58985114,  0.3675346 ],\n",
              "        [-0.13182534, -0.28433713, -0.86792463, ..., -0.23535551,\n",
              "         -0.15664653,  0.10168739],\n",
              "        [ 0.3084526 , -0.01033102,  0.23840812, ..., -0.3061641 ,\n",
              "          0.00357927, -0.42762288],\n",
              "        ...,\n",
              "        [-0.13590609, -0.69368863, -0.46665058, ..., -0.38988712,\n",
              "         -0.3492067 , -0.17711648],\n",
              "        [ 0.09466881, -0.18678188,  0.0812824 , ..., -0.30149966,\n",
              "          0.04682873,  0.1260336 ],\n",
              "        [-0.37374306,  0.12853545,  0.22554012, ...,  0.07614832,\n",
              "         -0.81275994, -0.4041931 ]], dtype=float32)>,\n",
              " <tf.Variable 'dense_1/bias:0' shape=(10,) dtype=float32, numpy=\n",
              " array([-0.05649464, -0.11380638, -0.0687172 , -0.03551423,  0.02311302,\n",
              "        -0.03514255, -0.04828766, -0.07096508,  0.03471064, -0.03868952],\n",
              "       dtype=float32)>]"
            ]
          },
          "execution_count": 35,
          "metadata": {},
          "output_type": "execute_result"
        }
      ],
      "source": [
        "model.weights"
      ]
    },
    {
      "cell_type": "code",
      "execution_count": null,
      "id": "8252d766-2d8d-49cf-a518-258cc27e15af",
      "metadata": {
        "id": "8252d766-2d8d-49cf-a518-258cc27e15af",
        "outputId": "5de882c8-e419-4181-e386-47e24d8c33ed"
      },
      "outputs": [
        {
          "data": {
            "image/png": "[encoded data removed]",
            "text/plain": [
              "<IPython.core.display.Image object>"
            ]
          },
          "execution_count": 36,
          "metadata": {},
          "output_type": "execute_result"
        }
      ],
      "source": [
        "from tensorflow.keras.utils import plot_model\n",
        "plot_model(model, \"digits_classifier.png\", show_shapes=True)"
      ]
    },
    {
      "cell_type": "markdown",
      "id": "recent-quarter",
      "metadata": {
        "id": "recent-quarter"
      },
      "source": [
        "# Using the model to make predictions"
      ]
    },
    {
      "cell_type": "code",
      "execution_count": null,
      "id": "divided-hardware",
      "metadata": {
        "id": "divided-hardware",
        "outputId": "b1d84284-7c2f-4c40-85eb-de242dd562a3"
      },
      "outputs": [
        {
          "name": "stdout",
          "output_type": "stream",
          "text": [
            "1/1 [==============================] - 0s 16ms/step\n"
          ]
        },
        {
          "data": {
            "text/plain": [
              "array([1.8369069e-20, 7.0609919e-31, 7.3976148e-19, 1.3016166e-15,\n",
              "       3.2866518e-29, 9.9465213e-21, 2.5660109e-37, 1.0000000e+00,\n",
              "       7.0083507e-21, 5.7638051e-16], dtype=float32)"
            ]
          },
          "execution_count": 38,
          "metadata": {},
          "output_type": "execute_result"
        }
      ],
      "source": [
        "test_digits = test_images[0:10]\n",
        "predictions = model.predict(test_digits)\n",
        "predictions[0]"
      ]
    },
    {
      "cell_type": "markdown",
      "id": "hired-potato",
      "metadata": {
        "id": "hired-potato"
      },
      "source": [
        "Each number of index i in that array corresponds to the probability that digit image test_digits[0] belong to class i."
      ]
    },
    {
      "cell_type": "code",
      "execution_count": null,
      "id": "comparable-tribute",
      "metadata": {
        "id": "comparable-tribute",
        "outputId": "0d549d93-3782-42c5-aa12-df0cddf9a2f0"
      },
      "outputs": [
        {
          "data": {
            "text/plain": [
              "7"
            ]
          },
          "execution_count": 39,
          "metadata": {},
          "output_type": "execute_result"
        }
      ],
      "source": [
        "predictions[0].argmax()"
      ]
    },
    {
      "cell_type": "code",
      "execution_count": null,
      "id": "exciting-campaign",
      "metadata": {
        "id": "exciting-campaign",
        "outputId": "8a6d6c19-98a6-4466-a7ef-d0222f6cf26b"
      },
      "outputs": [
        {
          "data": {
            "text/plain": [
              "1.0"
            ]
          },
          "execution_count": 40,
          "metadata": {},
          "output_type": "execute_result"
        }
      ],
      "source": [
        "predictions[0][7]"
      ]
    },
    {
      "cell_type": "code",
      "execution_count": null,
      "id": "f32e6f63-8a02-4b77-91c3-a112acbe754e",
      "metadata": {
        "id": "f32e6f63-8a02-4b77-91c3-a112acbe754e",
        "outputId": "7851b9ad-d463-49cb-bf79-85bda9620068"
      },
      "outputs": [
        {
          "data": {
            "text/plain": [
              "7"
            ]
          },
          "execution_count": 41,
          "metadata": {},
          "output_type": "execute_result"
        }
      ],
      "source": [
        "test_labels[0]"
      ]
    },
    {
      "cell_type": "markdown",
      "id": "sound-tribe",
      "metadata": {
        "id": "sound-tribe"
      },
      "source": [
        "### We can check that the test label agrees:"
      ]
    },
    {
      "cell_type": "code",
      "execution_count": null,
      "id": "creative-georgia",
      "metadata": {
        "id": "creative-georgia",
        "outputId": "fe205bee-7baa-4da3-a076-517b374a9496"
      },
      "outputs": [
        {
          "data": {
            "text/plain": [
              "7"
            ]
          },
          "execution_count": 21,
          "metadata": {},
          "output_type": "execute_result"
        }
      ],
      "source": [
        "test_labels[0]"
      ]
    },
    {
      "cell_type": "markdown",
      "id": "dietary-senator",
      "metadata": {
        "id": "dietary-senator"
      },
      "source": [
        "# Evaluating the model on new data"
      ]
    },
    {
      "cell_type": "code",
      "execution_count": null,
      "id": "english-jenny",
      "metadata": {
        "id": "english-jenny",
        "outputId": "293432e0-8c2a-4e1c-836d-0c3976e6a22d"
      },
      "outputs": [
        {
          "name": "stdout",
          "output_type": "stream",
          "text": [
            "313/313 [==============================] - 0s 1ms/step - loss: 0.1340 - accuracy: 0.9812\n",
            "test_acc: 0.9811999797821045\n"
          ]
        }
      ],
      "source": [
        "test_loss, test_acc = model.evaluate(test_images, test_labels)\n",
        "print('test_acc:', test_acc)"
      ]
    },
    {
      "cell_type": "markdown",
      "id": "medium-angle",
      "metadata": {
        "id": "medium-angle"
      },
      "source": [
        "# Data representations for neural networks"
      ]
    },
    {
      "cell_type": "markdown",
      "id": "neural-listening",
      "metadata": {
        "id": "neural-listening"
      },
      "source": [
        "* In the previous example, we started from data stored in multidimensional NumPy arrays, also called **tensors**.\n",
        "* In general, all current machine-learning systems use tensors as their basic data structure.\n",
        "* You may be already familiar with matrices, which are rank-2 tensors: tensors are a **generalization of matrices to an arbitrary number of dimensions** (note that in the context of tensors, a dimension is often called an **axis**)."
      ]
    },
    {
      "cell_type": "markdown",
      "id": "sunset-bathroom",
      "metadata": {
        "id": "sunset-bathroom"
      },
      "source": [
        "### Scalars (rank-0 tensors)"
      ]
    },
    {
      "cell_type": "code",
      "execution_count": null,
      "id": "enclosed-maximum",
      "metadata": {
        "id": "enclosed-maximum",
        "outputId": "87e09942-2342-4eb1-8176-289b85a1350e"
      },
      "outputs": [
        {
          "data": {
            "text/plain": [
              "array(12)"
            ]
          },
          "execution_count": 43,
          "metadata": {},
          "output_type": "execute_result"
        }
      ],
      "source": [
        "import numpy as np\n",
        "x = np.array(12)\n",
        "x"
      ]
    },
    {
      "cell_type": "code",
      "execution_count": null,
      "id": "raising-thread",
      "metadata": {
        "id": "raising-thread",
        "outputId": "31dc11dc-494f-4eb2-8fe7-4d69cfdafb20"
      },
      "outputs": [
        {
          "data": {
            "text/plain": [
              "0"
            ]
          },
          "execution_count": 44,
          "metadata": {},
          "output_type": "execute_result"
        }
      ],
      "source": [
        "x.ndim"
      ]
    },
    {
      "cell_type": "markdown",
      "id": "pressed-toddler",
      "metadata": {
        "id": "pressed-toddler"
      },
      "source": [
        "* A tensor that contains only one number is called a **scalar** or **rank-0 tensor**.\n",
        "* In NumPy, a float32 or float64 number is a scalar tensor (or **scalar array**).\n",
        "* You can display the number of axes of a NumPy tensor via the ndim attribute.\n",
        "* The number of axes of a tensor is also called its rank."
      ]
    },
    {
      "cell_type": "markdown",
      "id": "dying-arizona",
      "metadata": {
        "id": "dying-arizona"
      },
      "source": [
        "### Vectors (rank-1 tensors)"
      ]
    },
    {
      "cell_type": "code",
      "execution_count": null,
      "id": "marked-circus",
      "metadata": {
        "id": "marked-circus",
        "outputId": "74829106-bdef-49d2-9596-63951328fc76"
      },
      "outputs": [
        {
          "data": {
            "text/plain": [
              "array([12,  3,  6, 14,  7])"
            ]
          },
          "execution_count": 45,
          "metadata": {},
          "output_type": "execute_result"
        }
      ],
      "source": [
        "x = np.array([12, 3, 6, 14, 7])\n",
        "x"
      ]
    },
    {
      "cell_type": "code",
      "execution_count": null,
      "id": "tight-morrison",
      "metadata": {
        "id": "tight-morrison",
        "outputId": "091e23dd-065a-4d8e-e841-aded6bbd5d80"
      },
      "outputs": [
        {
          "data": {
            "text/plain": [
              "1"
            ]
          },
          "execution_count": 46,
          "metadata": {},
          "output_type": "execute_result"
        }
      ],
      "source": [
        "x.ndim"
      ]
    },
    {
      "cell_type": "markdown",
      "id": "classical-legislature",
      "metadata": {
        "id": "classical-legislature"
      },
      "source": [
        "* This vector has five entries and so is called a 5-dimensional vector.\n",
        "* Don’t confuse a 5D vector with a 5D tensor!.\n",
        "* **Dimensionality** can denote either the number of entries along a specific axis (as in the case of our 5D vector) or the number of axes in a tensor (such as a 5D tensor), which can be confusing at times."
      ]
    },
    {
      "cell_type": "markdown",
      "id": "pregnant-vintage",
      "metadata": {
        "id": "pregnant-vintage"
      },
      "source": [
        "### Matrices (rank-2 tensors)"
      ]
    },
    {
      "cell_type": "markdown",
      "id": "synthetic-nothing",
      "metadata": {
        "id": "synthetic-nothing"
      },
      "source": [
        "* An array of vectors is a matrix, or rank-2 tensor, or 2D tensor. A matrix has two axes (often referred to rows and columns)."
      ]
    },
    {
      "cell_type": "code",
      "execution_count": null,
      "id": "relevant-character",
      "metadata": {
        "id": "relevant-character",
        "outputId": "66775e41-41ac-46bb-daa1-12f4da43b865"
      },
      "outputs": [
        {
          "data": {
            "text/plain": [
              "array([[ 5, 78,  2, 34,  0],\n",
              "       [ 6, 79,  3, 35,  1],\n",
              "       [ 7, 80,  4, 36,  2]])"
            ]
          },
          "execution_count": 47,
          "metadata": {},
          "output_type": "execute_result"
        }
      ],
      "source": [
        "x = np.array([[5, 78, 2, 34, 0],\n",
        "            [6, 79, 3, 35, 1],\n",
        "            [7, 80, 4, 36, 2]])\n",
        "x"
      ]
    },
    {
      "cell_type": "code",
      "execution_count": null,
      "id": "several-shopper",
      "metadata": {
        "id": "several-shopper",
        "outputId": "6bddac7d-3f6b-409c-91dd-2efbaffecdee"
      },
      "outputs": [
        {
          "data": {
            "text/plain": [
              "2"
            ]
          },
          "execution_count": 48,
          "metadata": {},
          "output_type": "execute_result"
        }
      ],
      "source": [
        "x.ndim"
      ]
    },
    {
      "cell_type": "markdown",
      "id": "listed-hughes",
      "metadata": {
        "id": "listed-hughes"
      },
      "source": [
        "### Rank-3 tensors and higher-rank tensors"
      ]
    },
    {
      "cell_type": "markdown",
      "id": "critical-superintendent",
      "metadata": {
        "id": "critical-superintendent"
      },
      "source": [
        "* If you pack such matrices in a new array, you obtain a rank-3 tensor (or 3D tensor), which you can visually interpret as a cube of numbers. Following is a NumPy rank-3 tensor:"
      ]
    },
    {
      "cell_type": "code",
      "execution_count": null,
      "id": "theoretical-valve",
      "metadata": {
        "id": "theoretical-valve",
        "outputId": "711493b1-fcf4-4309-8e0a-d976e4d6c998"
      },
      "outputs": [
        {
          "data": {
            "text/plain": [
              "3"
            ]
          },
          "execution_count": 49,
          "metadata": {},
          "output_type": "execute_result"
        }
      ],
      "source": [
        "x = np.array([[[5, 78, 2, 34, 0],\n",
        "                [6, 79, 3, 35, 1],\n",
        "                [7, 80, 4, 36, 2]],\n",
        "                [[5, 78, 2, 34, 0],\n",
        "                [6, 79, 3, 35, 1],\n",
        "                [7, 80, 4, 36, 2]],\n",
        "                [[5, 78, 2, 34, 0],\n",
        "                [6, 79, 3, 35, 1],\n",
        "                [7, 80, 4, 36, 2]]])\n",
        "x.ndim"
      ]
    },
    {
      "cell_type": "markdown",
      "id": "possible-search",
      "metadata": {
        "id": "possible-search"
      },
      "source": [
        "* In deep learning, you’ll generally manipulate tensors with ranks 0 to 4, although you may go up to 5 if you process video data."
      ]
    },
    {
      "cell_type": "markdown",
      "id": "english-cassette",
      "metadata": {
        "id": "english-cassette"
      },
      "source": [
        "### Key attributes"
      ]
    },
    {
      "cell_type": "markdown",
      "id": "waiting-exploration",
      "metadata": {
        "id": "waiting-exploration"
      },
      "source": [
        "A tensor is defined by three key attributes:\n",
        "* **Number of axes (rank)** — For instance, a rank-3 tensor has three axes, and a matrix has two axes. This is also called the tensor’s **ndim** in Python libraries such as NumPy or TensorFlow.\n",
        "* **Shape** — This is a tuple of integers that describes how many dimensions the tensor has along each axis. For instance, the previous matrix example has shape (3, 5), and the rank-3 tensor example has shape (3, 3, 5).\n",
        "* **Data type (usually called dtype in Python libraries)** — This is the type of the data contained in the tensor; for instance, a tensor’s type could be float16, float32, float64, uint8, and so on. In TensorFlow, you are also likely to come across string tensors"
      ]
    },
    {
      "cell_type": "markdown",
      "id": "classical-colony",
      "metadata": {
        "id": "classical-colony"
      },
      "source": [
        "To make this more concrete, let’s look back at the data we processed in the MNIST example. First, we load the MNIST dataset:"
      ]
    },
    {
      "cell_type": "code",
      "execution_count": null,
      "id": "derived-reach",
      "metadata": {
        "id": "derived-reach"
      },
      "outputs": [],
      "source": [
        "(train_imagesORI, train_labelsORI), (test_imagesORI, test_labelsORI) = mnist.load_data()"
      ]
    },
    {
      "cell_type": "code",
      "execution_count": null,
      "id": "operational-production",
      "metadata": {
        "id": "operational-production",
        "outputId": "417e8432-5116-4523-c7ee-ac0bac9d6203"
      },
      "outputs": [
        {
          "name": "stdout",
          "output_type": "stream",
          "text": [
            "3\n"
          ]
        }
      ],
      "source": [
        "print(train_imagesORI.ndim)"
      ]
    },
    {
      "cell_type": "code",
      "execution_count": null,
      "id": "dominican-grain",
      "metadata": {
        "id": "dominican-grain",
        "outputId": "6ceb5bd7-e739-4186-fd65-2290948beeeb"
      },
      "outputs": [
        {
          "name": "stdout",
          "output_type": "stream",
          "text": [
            "(60000, 28, 28)\n"
          ]
        }
      ],
      "source": [
        "print(train_imagesORI.shape)"
      ]
    },
    {
      "cell_type": "markdown",
      "id": "mechanical-method",
      "metadata": {
        "id": "mechanical-method"
      },
      "source": [
        "#### So what we have here is a rank-3 tensor of 8-bit integers. More precisely, it’s an array of 60,000 matrices of 28 × 28 integers. Each such matrix is a grayscale image, with coefficients between 0 and 255."
      ]
    },
    {
      "cell_type": "markdown",
      "id": "democratic-wisconsin",
      "metadata": {
        "id": "democratic-wisconsin"
      },
      "source": [
        "After reshape"
      ]
    },
    {
      "cell_type": "code",
      "execution_count": null,
      "id": "smaller-cooper",
      "metadata": {
        "id": "smaller-cooper",
        "outputId": "29c49ed3-095f-4d48-f8aa-aded952e1f92"
      },
      "outputs": [
        {
          "name": "stdout",
          "output_type": "stream",
          "text": [
            "2\n"
          ]
        }
      ],
      "source": [
        "print(train_images.ndim)"
      ]
    },
    {
      "cell_type": "code",
      "execution_count": null,
      "id": "nearby-release",
      "metadata": {
        "id": "nearby-release",
        "outputId": "f21fc79e-58e7-4338-e3ad-afb4204f3c16"
      },
      "outputs": [
        {
          "name": "stdout",
          "output_type": "stream",
          "text": [
            "(50000, 784)\n"
          ]
        }
      ],
      "source": [
        "print(train_images.shape)"
      ]
    },
    {
      "cell_type": "markdown",
      "id": "alive-oasis",
      "metadata": {
        "id": "alive-oasis"
      },
      "source": [
        "# Manipulating tensors in NumPy"
      ]
    },
    {
      "cell_type": "markdown",
      "id": "destroyed-harbor",
      "metadata": {
        "id": "destroyed-harbor"
      },
      "source": [
        "### Tensor slicing"
      ]
    },
    {
      "cell_type": "code",
      "execution_count": null,
      "id": "ecological-exclusive",
      "metadata": {
        "id": "ecological-exclusive",
        "outputId": "0c74b555-4bfe-433d-a35e-8f223cdcc18f"
      },
      "outputs": [
        {
          "name": "stdout",
          "output_type": "stream",
          "text": [
            "(90, 28, 28)\n"
          ]
        }
      ],
      "source": [
        "my_slice = train_imagesORI[10:100]\n",
        "print(my_slice.shape)"
      ]
    },
    {
      "cell_type": "code",
      "execution_count": null,
      "id": "homeless-suite",
      "metadata": {
        "id": "homeless-suite",
        "outputId": "39c13b13-a5fc-451c-c50a-c722ff6d6e84"
      },
      "outputs": [
        {
          "data": {
            "text/plain": [
              "(90, 28, 28)"
            ]
          },
          "execution_count": 56,
          "metadata": {},
          "output_type": "execute_result"
        }
      ],
      "source": [
        "# It’s equivalent to this more detailed notation\n",
        "my_slice = train_imagesORI[10:100, :, :]\n",
        "my_slice.shape"
      ]
    },
    {
      "cell_type": "code",
      "execution_count": null,
      "id": "amber-payment",
      "metadata": {
        "id": "amber-payment",
        "outputId": "10514320-03c6-46a9-8bea-693b9808cc9b"
      },
      "outputs": [
        {
          "data": {
            "text/plain": [
              "(90, 28, 28)"
            ]
          },
          "execution_count": 57,
          "metadata": {},
          "output_type": "execute_result"
        }
      ],
      "source": [
        "# It’s equivalent to this more detailed notation\n",
        "my_slice = train_imagesORI[10:100, 0:28, 0:28]\n",
        "my_slice.shape"
      ]
    },
    {
      "cell_type": "code",
      "execution_count": null,
      "id": "illegal-procedure",
      "metadata": {
        "id": "illegal-procedure",
        "outputId": "69d50020-40fb-4dc8-d024-4a43974e7ced"
      },
      "outputs": [
        {
          "data": {
            "text/plain": [
              "(60000, 14, 14)"
            ]
          },
          "execution_count": 58,
          "metadata": {},
          "output_type": "execute_result"
        }
      ],
      "source": [
        "# What is the shape after the following slicing?\n",
        "my_slice = train_imagesORI[:, 7:-7, 7:-7]\n",
        "my_slice.shape"
      ]
    },
    {
      "cell_type": "markdown",
      "id": "boolean-manufacturer",
      "metadata": {
        "id": "boolean-manufacturer"
      },
      "source": [
        "### Data batches"
      ]
    },
    {
      "cell_type": "markdown",
      "id": "collective-glossary",
      "metadata": {
        "id": "collective-glossary"
      },
      "source": [
        "* In all data tensors you’ll come across in deep learning will be the samples axis (sometimes called the samples dimension). In the MNIST example, samples are images of digits.\n",
        "*  In addition, deep-learning models don’t process an entire dataset at once; rather, they break the data into small batches."
      ]
    },
    {
      "cell_type": "code",
      "execution_count": null,
      "id": "noticed-seeking",
      "metadata": {
        "id": "noticed-seeking"
      },
      "outputs": [],
      "source": [
        "# Concretely, here’s one batch of our MNIST digits, with batch size of 128:\n",
        "batch = train_images[:128] #first batch\n",
        "batch = train_images[128:256] #second batch"
      ]
    },
    {
      "cell_type": "code",
      "execution_count": null,
      "id": "stone-batch",
      "metadata": {
        "id": "stone-batch"
      },
      "outputs": [],
      "source": [
        "# And the nth batch:\n",
        "n = 3\n",
        "batch = train_images[128 * n:128 * (n + 1)]"
      ]
    },
    {
      "cell_type": "markdown",
      "id": "above-argentina",
      "metadata": {
        "id": "above-argentina"
      },
      "source": [
        "* When considering such a batch tensor, the first axis (axis 0) is called the batch axis or batch dimension. This is a term you’ll frequently encounter when using Keras and other deep-learning libraries."
      ]
    },
    {
      "cell_type": "markdown",
      "id": "environmental-glossary",
      "metadata": {
        "id": "environmental-glossary"
      },
      "source": [
        "### Real-world examples of data tensors"
      ]
    },
    {
      "cell_type": "markdown",
      "id": "right-cooper",
      "metadata": {
        "id": "right-cooper"
      },
      "source": [
        "The data you’ll manipulate will almost always fall into one of the following categories:\n",
        "* Vector data — rank-2 tensors of shape (samples, features)\n",
        "* Timeseries data or sequence data — rank-3 tensors of shape (samples, timesteps, features)\n",
        "* Images — rank-4 tensors of shape (samples, height, width, channels) or (samples, channels, height, width)\n",
        "* Video — rank-5 tensors of shape (samples, frames, height, width, channels) or (samples, frames, channels, height, width)"
      ]
    },
    {
      "cell_type": "markdown",
      "id": "devoted-right",
      "metadata": {
        "id": "devoted-right"
      },
      "source": [
        "Vector data: A dataset of text documents, where we represent each document by the counts of how\n",
        "many times each word appears in it (out of a dictionary of 20,000 common words).![vector_words.jpeg](images/vector_words.jpeg)"
      ]
    },
    {
      "cell_type": "code",
      "source": [],
      "metadata": {
        "id": "NQCbo2gN0vLE"
      },
      "id": "NQCbo2gN0vLE",
      "execution_count": null,
      "outputs": []
    },
    {
      "cell_type": "markdown",
      "id": "decreased-template",
      "metadata": {
        "id": "decreased-template"
      },
      "source": [
        "Time Series:\n",
        "![Timeseriesdata.png](https://raw.githubusercontent.com/hectormelo/Machine-Learning-Techniques/63d050457c26f88265bbd9c74323a3d5509dbdca/Lab_5/images/Timeseriesdata.png)"
      ]
    },
    {
      "cell_type": "markdown",
      "id": "norman-disease",
      "metadata": {
        "id": "norman-disease"
      },
      "source": [
        "Images:  ![images_repre.png](https://github.com/hectormelo/Machine-Learning-Techniques/blob/63d050457c26f88265bbd9c74323a3d5509dbdca/Lab_5/images/images_repre.png?raw=true)"
      ]
    },
    {
      "cell_type": "markdown",
      "id": "immune-organizer",
      "metadata": {
        "id": "immune-organizer"
      },
      "source": [
        "# The gears of neural networks: tensor operations"
      ]
    },
    {
      "cell_type": "markdown",
      "id": "collective-basics",
      "metadata": {
        "id": "collective-basics"
      },
      "source": [
        "In our initial example, we were building our model by stacking Dense layers on top of each\n",
        "other. A Keras layer instance looks like this:\n",
        "\n",
        "**keras.layers.Dense(512, activation='relu')**"
      ]
    },
    {
      "cell_type": "markdown",
      "id": "fantastic-protest",
      "metadata": {
        "id": "fantastic-protest"
      },
      "source": [
        "Specifically, the function is as follows (where W is a matrix and b is a vector, both attributes of the layer):"
      ]
    },
    {
      "cell_type": "markdown",
      "id": "governing-arrangement",
      "metadata": {
        "id": "governing-arrangement"
      },
      "source": [
        "**output = relu(dot(W, input) + b)**"
      ]
    },
    {
      "cell_type": "code",
      "execution_count": null,
      "id": "related-messaging",
      "metadata": {
        "id": "related-messaging"
      },
      "outputs": [],
      "source": [
        "# Element-wise operations\n",
        "def naive_relu(x):\n",
        "    assert len(x.shape) == 2 #x is a rank-2 NumPy tensor.\n",
        "    x = x.copy()  #Avoid overwriting the input tensor.\n",
        "    for i in range(x.shape[0]):\n",
        "        for j in range(x.shape[1]):\n",
        "            x[i, j] = max(x[i, j], 0)\n",
        "    return x"
      ]
    },
    {
      "cell_type": "code",
      "execution_count": null,
      "id": "needed-annual",
      "metadata": {
        "id": "needed-annual"
      },
      "outputs": [],
      "source": [
        "def naive_add(x, y):\n",
        "    assert len(x.shape) == 2 #x and y are rank-2 NumPy tensors.\n",
        "    assert x.shape == y.shape\n",
        "    x = x.copy()  #Avoid overwriting the input tensor.\n",
        "    for i in range(x.shape[0]):\n",
        "        for j in range(x.shape[1]):\n",
        "            x[i, j] += y[i, j]\n",
        "    return x"
      ]
    },
    {
      "cell_type": "markdown",
      "id": "broke-spirit",
      "metadata": {
        "id": "broke-spirit"
      },
      "source": [
        "* The above functions are not optimized.\n",
        "* In practice, when dealing with NumPy arrays, these operations are available as well-optimized built-in NumPy functions, which themselves delegate the heavy lifting to a Basic Linear Algebra Subprograms (BLAS) implementation.\n",
        "* BLAS are low-level, highly parallel, efficient tensor-manipulation routines that are typically implemented in Fortran or C."
      ]
    },
    {
      "cell_type": "code",
      "execution_count": null,
      "id": "equal-addition",
      "metadata": {
        "id": "equal-addition",
        "outputId": "5fae82f3-740b-426b-ae76-5ed0a584b251"
      },
      "outputs": [
        {
          "name": "stdout",
          "output_type": "stream",
          "text": [
            "Took: 1.18 s\n"
          ]
        }
      ],
      "source": [
        "import numpy as np\n",
        "import time\n",
        "\n",
        "x = np.random.random((20, 100))\n",
        "y = np.random.random((20, 100))\n",
        "t0 = time.time()\n",
        "for _ in range(1000):\n",
        "    z = naive_add(x, y)\n",
        "    z = naive_relu(z)\n",
        "print('Took: %.2f s' % (time.time() - t0))"
      ]
    },
    {
      "cell_type": "code",
      "execution_count": null,
      "id": "broadband-watts",
      "metadata": {
        "id": "broadband-watts",
        "outputId": "b828547f-f5b2-4e7e-96c9-2496c21496b9"
      },
      "outputs": [
        {
          "name": "stdout",
          "output_type": "stream",
          "text": [
            "Took: 0.00 s\n"
          ]
        }
      ],
      "source": [
        "#correct way\n",
        "t0 = time.time()\n",
        "for _ in range(1000):\n",
        "    z = x + y\n",
        "    z = np.maximum(z, 0.)\n",
        "print('Took: %.2f s' % (time.time() - t0))"
      ]
    },
    {
      "cell_type": "code",
      "execution_count": null,
      "id": "choice-silver",
      "metadata": {
        "id": "choice-silver",
        "outputId": "ddf1388d-3a69-4b35-d4e1-d7ba60a2143b"
      },
      "outputs": [
        {
          "data": {
            "text/plain": [
              "(20, 100)"
            ]
          },
          "execution_count": 70,
          "metadata": {},
          "output_type": "execute_result"
        }
      ],
      "source": [
        "x.shape"
      ]
    },
    {
      "cell_type": "markdown",
      "id": "included-communication",
      "metadata": {
        "id": "included-communication"
      },
      "source": [
        "## Tensor product\n"
      ]
    },
    {
      "cell_type": "code",
      "execution_count": null,
      "id": "appreciated-eugene",
      "metadata": {
        "id": "appreciated-eugene",
        "outputId": "8af728f7-740f-4f94-ad66-0376c01fa485"
      },
      "outputs": [
        {
          "name": "stdout",
          "output_type": "stream",
          "text": [
            "[0.17372663 0.0264011  0.2273696  0.30150137 0.70444335 0.61247062\n",
            " 0.89867467 0.64623836 0.22725018 0.39813829 0.74653353 0.31701991\n",
            " 0.20048027 0.33719906 0.0380097  0.22659746 0.71667711 0.56255948\n",
            " 0.79813784 0.10360243 0.16471718 0.13758667 0.33883356 0.58709061\n",
            " 0.16284479 0.23504205 0.98923819 0.39330715 0.40516208 0.51250127\n",
            " 0.36771752 0.00962664] [0.08161824 0.57176599 0.46581249 0.44146894 0.33856379 0.97520302\n",
            " 0.23747566 0.84230994 0.97596178 0.79037291 0.06668226 0.83755609\n",
            " 0.00175777 0.13319825 0.99291098 0.54470979 0.38439961 0.67782061\n",
            " 0.44887526 0.84201449 0.33771622 0.51852626 0.33730992 0.73629305\n",
            " 0.7633744  0.0863229  0.67815551 0.07075632 0.40493367 0.12704263\n",
            " 0.31920957 0.66582068] 5.892108395751747\n"
          ]
        }
      ],
      "source": [
        "x = np.random.random((32,))\n",
        "y = np.random.random((32,))\n",
        "z = np.dot(x, y)\n",
        "print(x,y,z)"
      ]
    },
    {
      "cell_type": "code",
      "execution_count": null,
      "id": "contrary-finish",
      "metadata": {
        "id": "contrary-finish"
      },
      "outputs": [],
      "source": [
        "def naive_vector_dot(x, y):\n",
        "    assert len(x.shape) == 1\n",
        "    assert len(y.shape) == 1\n",
        "    assert x.shape[0] == y.shape[0]\n",
        "    z = 0.\n",
        "    for i in range(x.shape[0]):\n",
        "        z += x[i] * y[i]\n",
        "    return z"
      ]
    },
    {
      "cell_type": "markdown",
      "id": "copyrighted-preserve",
      "metadata": {
        "id": "copyrighted-preserve"
      },
      "source": [
        "The dot product between a matrix x and a vector y, which returns a vector where the coefficients are the dot products between y and the rows of x.\n",
        "\n",
        "Of course, a dot product generalizes to tensors with an arbitrary number of axes. The most common applications may be the dot product between two matrices. You can take the dot product of two matrices x and y (dot(x, y)) if and only if x.shape[1] == y.shape[0]."
      ]
    },
    {
      "cell_type": "markdown",
      "id": "periodic-thompson",
      "metadata": {
        "id": "periodic-thompson"
      },
      "source": [
        "![dotproduct.jpg](https://github.com/hectormelo/Machine-Learning-Techniques/blob/63d050457c26f88265bbd9c74323a3d5509dbdca/Lab_5/images/dotproduct.jpg?raw=true)"
      ]
    },
    {
      "cell_type": "markdown",
      "id": "viral-opportunity",
      "metadata": {
        "id": "viral-opportunity"
      },
      "source": [
        "# Geometric interpretation of tensor operations"
      ]
    },
    {
      "cell_type": "code",
      "execution_count": null,
      "id": "governmental-incentive",
      "metadata": {
        "id": "governmental-incentive"
      },
      "outputs": [],
      "source": [
        "A = [0.5, 1]"
      ]
    },
    {
      "cell_type": "markdown",
      "id": "final-subcommittee",
      "metadata": {
        "id": "final-subcommittee"
      },
      "source": [
        "![Vectors_2.png](https://github.com/hectormelo/Machine-Learning-Techniques/blob/63d050457c26f88265bbd9c74323a3d5509dbdca/Lab_5/images/Vectors_2.png?raw=true)"
      ]
    },
    {
      "cell_type": "code",
      "execution_count": null,
      "id": "rotary-findings",
      "metadata": {
        "id": "rotary-findings"
      },
      "outputs": [],
      "source": [
        "B = [1, 0.25]"
      ]
    },
    {
      "cell_type": "markdown",
      "id": "occasional-growth",
      "metadata": {
        "id": "occasional-growth"
      },
      "source": [
        "![Vectors_3.png](https://raw.githubusercontent.com/hectormelo/Machine-Learning-Techniques/63d050457c26f88265bbd9c74323a3d5509dbdca/Lab_5/images/Vectors_3.png)"
      ]
    },
    {
      "cell_type": "markdown",
      "id": "appreciated-guyana",
      "metadata": {
        "id": "appreciated-guyana"
      },
      "source": [
        "### Translation"
      ]
    },
    {
      "cell_type": "markdown",
      "id": "passive-router",
      "metadata": {
        "id": "passive-router"
      },
      "source": [
        "![Translation.png](https://raw.githubusercontent.com/hectormelo/Machine-Learning-Techniques/63d050457c26f88265bbd9c74323a3d5509dbdca/Lab_5/images/Translation.png)"
      ]
    },
    {
      "cell_type": "markdown",
      "id": "changed-trial",
      "metadata": {
        "id": "changed-trial"
      },
      "source": [
        "### Rotation"
      ]
    },
    {
      "cell_type": "markdown",
      "id": "junior-bandwidth",
      "metadata": {
        "id": "junior-bandwidth"
      },
      "source": [
        "A rotation of a 2D vector by an angle theta (see figure) can be achieved via a dot product with a 2 × 2 matrix R = [[cos(theta), sin(theta)], [-sin(theta), cos(theta)]]."
      ]
    },
    {
      "cell_type": "markdown",
      "id": "continued-spirituality",
      "metadata": {
        "id": "continued-spirituality"
      },
      "source": [
        "![rotation.png](https://raw.githubusercontent.com/hectormelo/Machine-Learning-Techniques/63d050457c26f88265bbd9c74323a3d5509dbdca/Lab_5/images/rotation.png)"
      ]
    },
    {
      "cell_type": "markdown",
      "id": "banner-advancement",
      "metadata": {
        "id": "banner-advancement"
      },
      "source": [
        "### Scaling\n",
        "A vertical and horizontal scaling of the image (see figure) can be achieved via a dot product with a 2 x 2 matrix S = (note that such a matrix is called a 'diagonal matrix', because it only has non-zero coefficients in its “diagonal”, going from the top left to the bottom right)."
      ]
    },
    {
      "cell_type": "markdown",
      "id": "heated-rachel",
      "metadata": {
        "id": "heated-rachel"
      },
      "source": [
        "![scaling.png](https://raw.githubusercontent.com/hectormelo/Machine-Learning-Techniques/63d050457c26f88265bbd9c74323a3d5509dbdca/Lab_5/images/scaling.png)"
      ]
    },
    {
      "cell_type": "markdown",
      "id": "norwegian-infrared",
      "metadata": {
        "id": "norwegian-infrared"
      },
      "source": [
        "### Affine transform"
      ]
    },
    {
      "cell_type": "markdown",
      "id": "first-encyclopedia",
      "metadata": {
        "id": "first-encyclopedia"
      },
      "source": [
        "An affine transform (see figure TODO) is the combination of a linear transform (achieved via a dot product some matrix) and a translation (achieved via a vector addition)."
      ]
    },
    {
      "cell_type": "markdown",
      "id": "cooperative-morning",
      "metadata": {
        "id": "cooperative-morning"
      },
      "source": [
        "![affine.png](https://raw.githubusercontent.com/hectormelo/Machine-Learning-Techniques/63d050457c26f88265bbd9c74323a3d5509dbdca/Lab_5/images/affine.png)"
      ]
    },
    {
      "cell_type": "markdown",
      "id": "weird-evanescence",
      "metadata": {
        "id": "weird-evanescence"
      },
      "source": [
        "As you have probably recognized, that’s exactly the y = W • x + b computation implemented by the Dense layer!, logistic regression and so on.  A Dense layer without an activation function is an affine layer."
      ]
    },
    {
      "cell_type": "markdown",
      "id": "vulnerable-harvey",
      "metadata": {
        "id": "vulnerable-harvey"
      },
      "source": [
        "### Dense layer with relu activation"
      ]
    },
    {
      "cell_type": "markdown",
      "id": "facial-tokyo",
      "metadata": {
        "id": "facial-tokyo"
      },
      "source": [
        "![relu.png](https://raw.githubusercontent.com/hectormelo/Machine-Learning-Techniques/63d050457c26f88265bbd9c74323a3d5509dbdca/Lab_5/images/relu.png)"
      ]
    },
    {
      "cell_type": "markdown",
      "id": "satisfactory-distribution",
      "metadata": {
        "id": "satisfactory-distribution"
      },
      "source": [
        " ## The engine of neural networks: gradient-based optimization"
      ]
    },
    {
      "cell_type": "markdown",
      "id": "grave-attendance",
      "metadata": {
        "id": "grave-attendance"
      },
      "source": [
        "output = relu(dot(W, input) + b)"
      ]
    },
    {
      "cell_type": "markdown",
      "id": "automotive-breakfast",
      "metadata": {
        "id": "automotive-breakfast"
      },
      "source": [
        "How to find W and B?, training loop.\n",
        "1. Draw a batch of training samples x and corresponding targets y_true.\n",
        "2. Run the model on x (a step called the forward pass) to obtain predictions y_pred.\n",
        "3. Compute the loss of the model on the batch, a measure of the mismatch between y_pred and y_true.\n",
        "4. Update all weights of the model in a way that slightly reduces the loss on this batch."
      ]
    },
    {
      "cell_type": "markdown",
      "id": "fleet-marks",
      "metadata": {
        "id": "fleet-marks"
      },
      "source": [
        "### Stochastic gradient descent"
      ]
    },
    {
      "cell_type": "markdown",
      "id": "detected-tracker",
      "metadata": {
        "id": "detected-tracker"
      },
      "source": [
        "Given a differentiable function, it’s theoretically possible to find its minimum analytically: it’s known that a function’s minimum is a point where the derivative is 0, so all you have to do is\n",
        "find all the points where the derivative goes to 0 and check for which of these points the function has the lowest value."
      ]
    },
    {
      "cell_type": "markdown",
      "id": "caroline-divorce",
      "metadata": {
        "id": "caroline-divorce"
      },
      "source": [
        "### grad(f(W), W) = 0 for W.\n",
        "This is a polynomial equation of N variables, where N is the number\n",
        "of coefficients in the model. Although it would be possible to solve such an equation for N = 2 or\n",
        "N = 3, doing so is intractable for real neural networks, where the number of parameters is never\n",
        "less than a few thousand and can often be several tens of millions.\n",
        "\n",
        "Instead, you can use the four-step algorithm outlined: modify the\n",
        "parameters little by little based on the current loss value on a random batch of data. Because\n",
        "you’re dealing with a differentiable function, you can compute its gradient, which gives you an\n",
        "efficient way to implement step 4. If you update the weights in the opposite direction from the\n",
        "gradient, the loss will be a little less every time:\n",
        "\n",
        "1. Draw a batch of training samples x and corresponding targets y_true.\n",
        "2. Run the model on x to obtain predictions y_pred (this is called the forward pass).\n",
        "3. Compute the loss of the model on the batch, a measure of the mismatch between y_pred and y_true.\n",
        "4. Compute the gradient of the loss with regard to the model’s parameters (this is called the backward pass).\n",
        "5. Move the parameters a little in the opposite direction from the gradient — for example W -= learning_rate * gradient — thus reducing the loss on the batch a bit. The learning rate (learning_rate here) would be a scalar factor modulating the “speed” of the gradient descent process."
      ]
    },
    {
      "cell_type": "markdown",
      "id": "meaningful-clarity",
      "metadata": {
        "id": "meaningful-clarity"
      },
      "source": [
        "What we just described is called **mini-batch stochastic gradient descent (mini-batch SGD)**."
      ]
    },
    {
      "cell_type": "markdown",
      "id": "cathedral-mount",
      "metadata": {
        "id": "cathedral-mount"
      },
      "source": [
        "![SGD.png](https://raw.githubusercontent.com/hectormelo/Machine-Learning-Techniques/63d050457c26f88265bbd9c74323a3d5509dbdca/Lab_5/images/SGD.png)"
      ]
    },
    {
      "cell_type": "markdown",
      "id": "graphic-diamond",
      "metadata": {
        "id": "graphic-diamond"
      },
      "source": [
        "As you can see, intuitively it’s important to pick a reasonable value for the **learning_rate factor**. If it’s too small, the descent down the curve will take many iterations, and it could get\n",
        "stuck in a **local minimum**. If learning_rate is too large, your updates may end up taking you to completely random locations on the curve."
      ]
    },
    {
      "cell_type": "markdown",
      "id": "million-disco",
      "metadata": {
        "id": "million-disco"
      },
      "source": [
        "![local_minimun.png](https://github.com/hectormelo/Machine-Learning-Techniques/blob/63d050457c26f88265bbd9c74323a3d5509dbdca/Lab_5/images/local_minimun.png?raw=true)"
      ]
    },
    {
      "cell_type": "markdown",
      "id": "certified-provider",
      "metadata": {
        "id": "certified-provider"
      },
      "source": [
        "![SDG-3d.png](https://github.com/hectormelo/Machine-Learning-Techniques/blob/63d050457c26f88265bbd9c74323a3d5509dbdca/Lab_5/images/SDG-3d.png?raw=true)"
      ]
    },
    {
      "cell_type": "markdown",
      "id": "affected-bidder",
      "metadata": {
        "id": "affected-bidder"
      },
      "source": [
        "Additionally, there exist multiple variants of SGD that differ by taking into account previous weight updates. Such variants are known as **optimization methods or optimizers**."
      ]
    },
    {
      "cell_type": "markdown",
      "id": "ceramic-classic",
      "metadata": {
        "id": "ceramic-classic"
      },
      "source": [
        "## Chaining derivatives: the Backpropagation algorithm"
      ]
    },
    {
      "cell_type": "markdown",
      "id": "threaded-region",
      "metadata": {
        "id": "threaded-region"
      },
      "source": [
        "In our two-layer network example, how can we get the gradient of the\n",
        "loss with regard to the weights?"
      ]
    },
    {
      "cell_type": "markdown",
      "id": "sensitive-essay",
      "metadata": {
        "id": "sensitive-essay"
      },
      "source": [
        "```python\n",
        "loss_value = loss(y_true, softmax(dot(W2, relu(dot(W1, inputs) + b1)) + b2))\n",
        "```"
      ]
    },
    {
      "cell_type": "markdown",
      "id": "amber-depth",
      "metadata": {
        "id": "amber-depth"
      },
      "source": [
        "##![TwoLayerNNComputingGraph.png](attachment:33d8cd06-05a0-44d1-af0f-bb24dfe7dfa4.png)"
      ]
    },
    {
      "cell_type": "markdown",
      "id": "peripheral-change",
      "metadata": {
        "id": "peripheral-change"
      },
      "source": [
        "## An easy example of Backpropagation"
      ]
    },
    {
      "cell_type": "markdown",
      "id": "annoying-birth",
      "metadata": {
        "id": "annoying-birth"
      },
      "source": [
        "We’ll take two scalar variables w, b, a scalar input x, and apply some operations to them to combine into an output y. we’ll apply an absolute value error:"
      ]
    },
    {
      "cell_type": "markdown",
      "id": "moral-truth",
      "metadata": {
        "id": "moral-truth"
      },
      "source": [
        "<code>\n",
        "loss_val = abs(y_true - y)\n",
        "</code>"
      ]
    },
    {
      "cell_type": "markdown",
      "id": "maritime-class",
      "metadata": {
        "id": "maritime-class"
      },
      "source": [
        "![BackpropaExample.png](https://github.com/hectormelo/Machine-Learning-Techniques/blob/63d050457c26f88265bbd9c74323a3d5509dbdca/Lab_5/images/BackpropaExample.png?raw=true)"
      ]
    },
    {
      "cell_type": "markdown",
      "id": "national-thing",
      "metadata": {
        "id": "national-thing"
      },
      "source": [
        "### Now let's **reverse** the graph: for each edge in the graph going from a to b, we will create an opposite edge from b to a, and ask “how much does b vary when a vary”?"
      ]
    },
    {
      "cell_type": "markdown",
      "id": "green-interstate",
      "metadata": {
        "id": "green-interstate"
      },
      "source": [
        "![BackpropaExample2.png](https://github.com/hectormelo/Machine-Learning-Techniques/blob/63d050457c26f88265bbd9c74323a3d5509dbdca/Lab_5/images/BackpropaExample2.png?raw=true)"
      ]
    },
    {
      "cell_type": "markdown",
      "id": "covered-discount",
      "metadata": {
        "id": "covered-discount"
      },
      "source": [
        "We have:\n",
        "* <code>grad(loss_val, x2) = 1</code>, because as x2 varies by an amount epsilon, <code>loss_val = abs(4 - x2)</code> varies by the same amount.\n",
        "* <code>grad(x2, x1) = 1</code>, because as x1 varies by an amount epsilon, <code>x2 = x1 + b = x1 + 1</code> varies by the same amount.\n",
        "* <code>grad(x2, b) = 1</code>, because as b varies by an amount epsilon, <code>x2 = x1 + b = 6 + b</code> varies by the same amount.\n",
        "* <code>grad(x1, w) = 2</code>, because as w varies by an amount epsilon, <code>x1 = x * w = 2 * w</code> varies by 2 * epsilon."
      ]
    },
    {
      "cell_type": "markdown",
      "id": "organized-certificate",
      "metadata": {
        "id": "organized-certificate"
      },
      "source": [
        "What the chain rule says about this backward graph is that **you can obtain the derivative of a\n",
        "node with respect to another node by multiplying the derivatives for each edge along the path\n",
        "linking the two nodes**."
      ]
    },
    {
      "cell_type": "markdown",
      "id": "biological-worcester",
      "metadata": {
        "id": "biological-worcester"
      },
      "source": [
        "### grad(loss_val, w)"
      ]
    },
    {
      "cell_type": "markdown",
      "id": "representative-hurricane",
      "metadata": {
        "id": "representative-hurricane"
      },
      "source": [
        "![BackpropaExample3.png](https://github.com/hectormelo/Machine-Learning-Techniques/blob/63d050457c26f88265bbd9c74323a3d5509dbdca/Lab_5/images/BackpropaExample3.png?raw=true)"
      ]
    },
    {
      "cell_type": "markdown",
      "id": "democratic-booth",
      "metadata": {
        "id": "democratic-booth"
      },
      "source": [
        "* grad(loss_val, w) = 1 * 1 * 2 = 2\n",
        "* grad(loss_val, b) = 1 * 1 = 1"
      ]
    },
    {
      "cell_type": "markdown",
      "id": "weighted-portfolio",
      "metadata": {
        "id": "weighted-portfolio"
      },
      "source": [
        "# THE GRADIENT TAPE IN TENSORFLOW"
      ]
    },
    {
      "cell_type": "markdown",
      "id": "lonely-raise",
      "metadata": {
        "id": "lonely-raise"
      },
      "source": [
        "The API through which you can leverage TensorFlow’s powerful automatic differentiation\n",
        "capabilities is the GradientTape"
      ]
    },
    {
      "cell_type": "code",
      "execution_count": null,
      "id": "australian-hygiene",
      "metadata": {
        "id": "australian-hygiene",
        "outputId": "19294ee0-8b41-427a-91ed-24ca6cf91c6e"
      },
      "outputs": [
        {
          "name": "stdout",
          "output_type": "stream",
          "text": [
            "tf.Tensor(2.0, shape=(), dtype=float32)\n"
          ]
        }
      ],
      "source": [
        "import tensorflow as tf\n",
        "x = tf.Variable(0.)\n",
        "\n",
        "with tf.GradientTape() as tape:\n",
        "    y = 2 * x   + 3\n",
        "\n",
        "grad_of_y_wrt_x = tape.gradient(y, x)\n",
        "print(grad_of_y_wrt_x)"
      ]
    },
    {
      "cell_type": "code",
      "execution_count": null,
      "id": "phantom-income",
      "metadata": {
        "id": "phantom-income"
      },
      "outputs": [],
      "source": [
        "# tape == computation graph\n",
        "# tf.Variable is a specific kind of tensor"
      ]
    },
    {
      "cell_type": "markdown",
      "id": "fiscal-danger",
      "metadata": {
        "id": "fiscal-danger"
      },
      "source": [
        "# (OPTIONAL) Reimplementing our first example using all that we learn so far"
      ]
    },
    {
      "cell_type": "markdown",
      "id": "upper-washer",
      "metadata": {
        "id": "upper-washer"
      },
      "source": [
        "#### First implement a NaiveDense"
      ]
    },
    {
      "cell_type": "code",
      "execution_count": null,
      "id": "integrated-ultimate",
      "metadata": {
        "id": "integrated-ultimate"
      },
      "outputs": [],
      "source": [
        "import tensorflow as tf\n",
        "\n",
        "class NaiveDense:\n",
        "    def __init__(self, input_size, output_size, activation):\n",
        "        self.activation = activation\n",
        "\n",
        "        # Create a matrix W of shape “(input_size, output_size)“,\n",
        "        # initialized with randomvalues.\n",
        "        w_shape = (input_size, output_size)\n",
        "        w_initial_value = tf.random.uniform(w_shape, minval=0, maxval=1e-1)\n",
        "        self.W = tf.Variable(w_initial_value)\n",
        "\n",
        "        # Create a vector b of shape (output_size,), initialized with zeros.\n",
        "        b_shape = (output_size,)\n",
        "        b_initial_value = tf.zeros(b_shape)\n",
        "        self.b = tf.Variable(b_initial_value)\n",
        "\n",
        "    def __call__(self, inputs): #Apply the forward pass.\n",
        "        return self.activation(tf.matmul(inputs, self.W) + self.b)\n",
        "\n",
        "    # Convenience method for retrieving the layer’s weights.\n",
        "    @property\n",
        "    def weights(self):\n",
        "        return [self.W, self.b]"
      ]
    },
    {
      "cell_type": "markdown",
      "id": "running-knight",
      "metadata": {
        "id": "running-knight"
      },
      "source": [
        "#### Second implement the computation of a sequence of layers"
      ]
    },
    {
      "cell_type": "code",
      "execution_count": null,
      "id": "hidden-helena",
      "metadata": {
        "id": "hidden-helena"
      },
      "outputs": [],
      "source": [
        "class NaiveSequential:\n",
        "    def __init__(self, layers):\n",
        "        self.layers = layers\n",
        "\n",
        "    def __call__(self, inputs):\n",
        "        x = inputs\n",
        "        for layer in self.layers:\n",
        "            x = layer(x)\n",
        "        return x\n",
        "\n",
        "    @property\n",
        "    def weights(self):\n",
        "        weights = []\n",
        "        for layer in self.layers:\n",
        "            weights += layer.weights\n",
        "        return weights"
      ]
    },
    {
      "cell_type": "code",
      "execution_count": null,
      "id": "substantial-strategy",
      "metadata": {
        "id": "substantial-strategy",
        "outputId": "ff7f6e6c-656d-4d98-9d08-2e7c6a70d6cd"
      },
      "outputs": [
        {
          "data": {
            "text/plain": [
              "4"
            ]
          },
          "execution_count": 17,
          "metadata": {},
          "output_type": "execute_result"
        }
      ],
      "source": [
        "# Now we can initialice our NN architecture\n",
        "model = NaiveSequential([\n",
        "    NaiveDense(input_size=28 * 28, output_size=512, activation=tf.nn.relu),\n",
        "    NaiveDense(input_size=512, output_size=10, activation=tf.nn.softmax)\n",
        "    ])\n",
        "len(model.weights)"
      ]
    },
    {
      "cell_type": "markdown",
      "id": "forbidden-planner",
      "metadata": {
        "id": "forbidden-planner"
      },
      "source": [
        "#### Build the batch generator"
      ]
    },
    {
      "cell_type": "code",
      "execution_count": null,
      "id": "central-colony",
      "metadata": {
        "id": "central-colony"
      },
      "outputs": [],
      "source": [
        "class BatchGenerator:\n",
        "    def __init__(self, images, labels, batch_size=128):\n",
        "        self.index = 0\n",
        "        self.images = images\n",
        "        self.labels = labels\n",
        "        self.batch_size = batch_size\n",
        "\n",
        "    def next(self):\n",
        "        images = self.images[self.index : self.index + self.batch_size]\n",
        "        labels = self.labels[self.index : self.index + self.batch_size]\n",
        "        self.index += self.batch_size\n",
        "        return images, labels"
      ]
    },
    {
      "cell_type": "markdown",
      "id": "automotive-british",
      "metadata": {
        "id": "automotive-british"
      },
      "source": [
        "#### Training"
      ]
    },
    {
      "cell_type": "code",
      "execution_count": null,
      "id": "certified-clinton",
      "metadata": {
        "id": "certified-clinton"
      },
      "outputs": [],
      "source": [
        "def one_training_step(model, images_batch, labels_batch):\n",
        "    # Run the “forward pass”\n",
        "    with tf.GradientTape() as tape:\n",
        "        predictions = model(images_batch)\n",
        "        per_sample_losses = tf.keras.losses.sparse_categorical_crossentropy(labels_batch, predictions)\n",
        "        average_loss = tf.reduce_mean(per_sample_losses)\n",
        "\n",
        "    # Compute the gradient of the loss with regard to the weights. The output gradients\n",
        "    # is a list where each entry corresponds to a weight from the model.weights list.\n",
        "    gradients = tape.gradient(average_loss, model.weights)\n",
        "\n",
        "    # Update the weights using the gradients (we will define this function below)\n",
        "    update_weights(gradients, model.weights)\n",
        "    return average_loss"
      ]
    },
    {
      "cell_type": "markdown",
      "id": "proved-israeli",
      "metadata": {
        "id": "proved-israeli"
      },
      "source": [
        "#### What is missing here?"
      ]
    },
    {
      "cell_type": "code",
      "execution_count": null,
      "id": "exclusive-plymouth",
      "metadata": {
        "id": "exclusive-plymouth"
      },
      "outputs": [],
      "source": [
        "learning_rate = 1e-3\n",
        "def update_weights(gradients, weights):\n",
        "    for g, w in zip(gradients, model.weights):\n",
        "        w.assign_sub(g * learning_rate) #\n",
        "        #assign_sub is the equivalent of -= for TensorFlow variables. w2 = w1 - w1*gradiente"
      ]
    },
    {
      "cell_type": "markdown",
      "id": "surrounded-priority",
      "metadata": {
        "id": "surrounded-priority"
      },
      "source": [
        "In practice, you will almost never implement a weight update step like this by hand. Instead, you would use an **Optimizer instance from Keras**. Like this"
      ]
    },
    {
      "cell_type": "code",
      "execution_count": null,
      "id": "auburn-programmer",
      "metadata": {
        "id": "auburn-programmer"
      },
      "outputs": [],
      "source": [
        "from tensorflow.keras import optimizers\n",
        "optimizer = optimizers.SGD(learning_rate=1e-3)\n",
        "def update_weights(gradients, weights):\n",
        "    optimizer.apply_gradients(zip(gradients, weights))"
      ]
    },
    {
      "cell_type": "markdown",
      "id": "hybrid-command",
      "metadata": {
        "id": "hybrid-command"
      },
      "source": [
        "### Putting it all together"
      ]
    },
    {
      "cell_type": "code",
      "execution_count": null,
      "id": "demanding-partner",
      "metadata": {
        "id": "demanding-partner"
      },
      "outputs": [],
      "source": [
        "def fit(model, images, labels, epochs, batch_size=128):\n",
        "    for epoch_counter in range(epochs):\n",
        "        print('Epoch %d' % epoch_counter)\n",
        "        batch_generator = BatchGenerator(images, labels)\n",
        "        for batch_counter in range(len(images) // batch_size):\n",
        "            images_batch, labels_batch = batch_generator.next()\n",
        "            loss = one_training_step(model, images_batch, labels_batch)\n",
        "            if batch_counter % 100 == 0:\n",
        "                print('loss at batch %d: %.2f' % (batch_counter, loss))"
      ]
    },
    {
      "cell_type": "markdown",
      "id": "continent-dayton",
      "metadata": {
        "id": "continent-dayton"
      },
      "source": [
        "### Let's probe our implementation"
      ]
    },
    {
      "cell_type": "code",
      "execution_count": null,
      "id": "confident-wales",
      "metadata": {
        "id": "confident-wales"
      },
      "outputs": [],
      "source": [
        "from keras.datasets import mnist\n",
        "(train_images, train_labels), (test_images, test_labels) = mnist.load_data()\n",
        "train_images = train_images.reshape((60000, 28 * 28))\n",
        "train_images = train_images.astype('float32') / 255\n",
        "test_images = test_images.reshape((10000, 28 * 28))\n",
        "test_images = test_images.astype('float32') / 255"
      ]
    },
    {
      "cell_type": "code",
      "execution_count": null,
      "id": "patient-longitude",
      "metadata": {
        "id": "patient-longitude",
        "outputId": "9f04e86d-4398-4521-9eca-05c13a6c923b"
      },
      "outputs": [
        {
          "name": "stdout",
          "output_type": "stream",
          "text": [
            "Epoch 0\n",
            "loss at batch 0: 0.61\n",
            "loss at batch 100: 0.67\n",
            "loss at batch 200: 0.57\n",
            "loss at batch 300: 0.63\n",
            "loss at batch 400: 0.70\n",
            "Epoch 1\n",
            "loss at batch 0: 0.58\n",
            "loss at batch 100: 0.63\n",
            "loss at batch 200: 0.54\n",
            "loss at batch 300: 0.60\n",
            "loss at batch 400: 0.68\n",
            "Epoch 2\n",
            "loss at batch 0: 0.56\n",
            "loss at batch 100: 0.60\n",
            "loss at batch 200: 0.51\n",
            "loss at batch 300: 0.57\n",
            "loss at batch 400: 0.65\n",
            "Epoch 3\n",
            "loss at batch 0: 0.53\n",
            "loss at batch 100: 0.57\n",
            "loss at batch 200: 0.49\n",
            "loss at batch 300: 0.55\n",
            "loss at batch 400: 0.63\n",
            "Epoch 4\n",
            "loss at batch 0: 0.52\n",
            "loss at batch 100: 0.55\n",
            "loss at batch 200: 0.47\n",
            "loss at batch 300: 0.53\n",
            "loss at batch 400: 0.62\n",
            "Epoch 5\n",
            "loss at batch 0: 0.50\n",
            "loss at batch 100: 0.53\n",
            "loss at batch 200: 0.45\n",
            "loss at batch 300: 0.51\n",
            "loss at batch 400: 0.60\n",
            "Epoch 6\n",
            "loss at batch 0: 0.49\n",
            "loss at batch 100: 0.51\n",
            "loss at batch 200: 0.43\n",
            "loss at batch 300: 0.50\n",
            "loss at batch 400: 0.59\n",
            "Epoch 7\n",
            "loss at batch 0: 0.47\n",
            "loss at batch 100: 0.49\n",
            "loss at batch 200: 0.42\n",
            "loss at batch 300: 0.48\n",
            "loss at batch 400: 0.58\n",
            "Epoch 8\n",
            "loss at batch 0: 0.46\n",
            "loss at batch 100: 0.48\n",
            "loss at batch 200: 0.41\n",
            "loss at batch 300: 0.47\n",
            "loss at batch 400: 0.57\n",
            "Epoch 9\n",
            "loss at batch 0: 0.45\n",
            "loss at batch 100: 0.46\n",
            "loss at batch 200: 0.39\n",
            "loss at batch 300: 0.46\n",
            "loss at batch 400: 0.56\n"
          ]
        }
      ],
      "source": [
        "## let's fit\n",
        "fit(model, train_images, train_labels, epochs=10, batch_size=128)"
      ]
    },
    {
      "cell_type": "markdown",
      "id": "important-budget",
      "metadata": {
        "id": "important-budget"
      },
      "source": [
        "### Testing"
      ]
    },
    {
      "cell_type": "code",
      "execution_count": null,
      "id": "stunning-appearance",
      "metadata": {
        "id": "stunning-appearance",
        "outputId": "c42d1ec8-5f50-4a65-8a78-90ccb51ca6f8"
      },
      "outputs": [
        {
          "name": "stdout",
          "output_type": "stream",
          "text": [
            "accuracy: 0.87\n"
          ]
        }
      ],
      "source": [
        "predictions = model(test_images)\n",
        "predictions = predictions.numpy()# Tensorflow tensor to numpy tensor\n",
        "predicted_labels = np.argmax(predictions, axis=1)\n",
        "matches = predicted_labels == test_labels\n",
        "print('accuracy: %.2f' % matches.mean())"
      ]
    },
    {
      "cell_type": "markdown",
      "id": "d7cb7648-c203-4890-9276-32d42dfefb83",
      "metadata": {
        "id": "d7cb7648-c203-4890-9276-32d42dfefb83"
      },
      "source": [
        "# TALLER SEMANA 9"
      ]
    },
    {
      "cell_type": "markdown",
      "id": "ddd43f43-d83d-4178-9337-f413f36e12b3",
      "metadata": {
        "id": "ddd43f43-d83d-4178-9337-f413f36e12b3"
      },
      "source": [
        "Seleccione dos (2) datasets de *\"clasificación\"* de los previamente usados en los laboratorios.\n",
        "\n",
        "**Para cada uno de los datasets construya una red neuronal (solo capas densas) en keras que solucione el problema.**\n",
        "- Experimente cambiando la arquitectura de la red neuronal (# capas ocultas, y # capas de neuronas) -mínimo 3 arquitecturas-. Documente para cada arquitectura los resultados en Training, Validación y Test.\n",
        "- Para cada arquitectura planteada haga un summary y entienda el conteo total de parámetros de cada capa.\n",
        "- Para cada arquitectura evaluada encuentre el número apropiado de epocas de entrenamiento.\n",
        "- Compare los resultados con los obtenidos utilizando otros métodos de ML (SVM, Random Forest, etc).\n",
        "\n",
        "**Sobre el formato de entrega:**\n",
        "- Cree un (1) nuevo notebook para resolver la tarea. No haga su tarea sobre este notebook!!.\n",
        "- Use la nomenclatura de nombres usanda en talleres pasados para nombrar el archivo ipynb.\n",
        "- En el notebook solo deje especificado la arquitectura que mejor resolvio cada uno de los dos problema. Las otras arquitecturas de red probadas solo debe documentarlas y hacer la comparación en terminos de resultados. La documentación debe ser incluida en el mismo notebook. Si usa imagenes no olvide incluirlas en la entrega.  \n",
        "\n",
        "**Apreciaciones Finales:**\n",
        "-  Defina un dataset de validación de mínimo el 10% en caso de que no este especificado. Recuerde que debe ser una selección aleatoria.\n",
        "-  Sea organizado en la presentación de notebooks y en la documentación de la experimentación/comparación de resultados."
      ]
    }
  ],
  "metadata": {
    "kernelspec": {
      "display_name": "Python 3",
      "language": "python",
      "name": "python3"
    },
    "language_info": {
      "codemirror_mode": {
        "name": "ipython",
        "version": 3
      },
      "file_extension": ".py",
      "mimetype": "text/x-python",
      "name": "python",
      "nbconvert_exporter": "python",
      "pygments_lexer": "ipython3",
      "version": "3.8.10"
    },
    "colab": {
      "provenance": [],
      "include_colab_link": true
    }
  },
  "nbformat": 4,
  "nbformat_minor": 5
}