{
  "cells": [
    {
      "cell_type": "markdown",
      "metadata": {
        "id": "view-in-github",
        "colab_type": "text"
      },
      "source": [
        "<a href=\"https://colab.research.google.com/github/hectormelo/Machine-Learning-Techniques/blob/main/Taller_4/Taller_4.ipynb\" target=\"_parent\"><img src=\"https://colab.research.google.com/assets/colab-badge.svg\" alt=\"Open In Colab\"/></a>"
      ]
    },
    {
      "cell_type": "markdown",
      "metadata": {
        "id": "yF3pUagPpBXi"
      },
      "source": [
        "<img src=\"https://raw.githubusercontent.com/hectormelo/Machine-Learning-Techniques/main/Banner.png\" ><br>\n",
        "# Machine Learning Techniques - MISIS4219\n",
        "\n",
        "Primer Semestre - 2024"
      ]
    },
    {
      "cell_type": "markdown",
      "source": [
        "* **Integrante 1:**\n",
        "* **Integrante 2:**"
      ],
      "metadata": {
        "id": "hRBapeK93Ayp"
      }
    },
    {
      "cell_type": "markdown",
      "metadata": {
        "id": "mGTZhaDaKFw9"
      },
      "source": [
        "### Primer Punto\n",
        "\n",
        "El conjunto de datos \"Tech Students' Profile Prediction\" contiene información sobre las habilidades, preferencias profesionales y antecedentes académicos de estudiantes en el campo de la tecnología. En este proyecto, se busca aplicar técnicas de agrupación para identificar grupos de estudiantes con perfiles similares, lo que podría ser útil para la orientación profesional y la personalización de programas educativos.\n",
        "\n",
        "El objetivo de este proyecto es desarrollar un modelo de agrupación que clasifique a los estudiantes en función de sus habilidades, intereses y antecedentes, utilizando los datos proporcionados en el conjunto de datos \"Tech Students' Profile Prediction\". Este modelo deberá ser capaz de identificar patrones y tendencias en los perfiles de los estudiantes, lo que podría ayudar a las instituciones educativas y a los empleadores a adaptar sus estrategias de enseñanza y contratación.\n",
        "\n",
        "Para poder realizar este proyecto, se le piden los siguientes análisis:\n",
        "\n",
        "* Realizar la agrupación con el Algoritmo k-Means. Obtener los centroides e interpretarlos.\n",
        "\n",
        "\n",
        "**Fuente de datos:** [Tech Students' Profile Prediction](https://www.kaggle.com/datasets/scarecrow2020/tech-students-profile-prediction)"
      ]
    },
    {
      "cell_type": "markdown",
      "source": [
        "### Segundo punto\n",
        "\n",
        "La sequía es un problema creciente en muchas regiones de Estados Unidos, afectando tanto a la agricultura como a la disponibilidad de agua potable. El conjunto de datos \"US Drought Meteorological Data\" contiene información meteorológica histórica y actual, que incluye variables como temperatura, precipitación, humedad y presión atmosférica, entre otras.\n",
        "\n",
        "El objetivo de este proyecto es desarrollar un modelo de detección de anomalías que identifique eventos climáticos extremos o inusuales en diferentes regiones de Estados Unidos, utilizando los datos meteorológicos disponibles. Este modelo deberá ser capaz de detectar patrones anómalos que puedan estar relacionados con la aparición o intensificación de sequías, permitiendo a los responsables de la toma de decisiones anticiparse y tomar medidas para mitigar sus efectos.\n",
        "\n",
        "\n",
        "**Fuente de datos:** [Predict Droughts using Weather & Soil Data](https://www.kaggle.com/datasets/cdminix/us-drought-meteorological-data)"
      ],
      "metadata": {
        "id": "s3BhOimIp4S4"
      }
    }
  ],
  "metadata": {
    "colab": {
      "provenance": [],
      "include_colab_link": true
    },
    "kernelspec": {
      "display_name": "Python 3",
      "name": "python3"
    },
    "language_info": {
      "name": "python"
    }
  },
  "nbformat": 4,
  "nbformat_minor": 0
}