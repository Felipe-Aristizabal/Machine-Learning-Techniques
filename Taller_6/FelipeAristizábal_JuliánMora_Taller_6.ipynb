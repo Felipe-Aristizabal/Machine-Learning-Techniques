{
  "nbformat": 4,
  "nbformat_minor": 0,
  "metadata": {
    "colab": {
      "provenance": []
    },
    "kernelspec": {
      "name": "python3",
      "display_name": "Python 3"
    },
    "language_info": {
      "name": "python"
    }
  },
  "cells": [
    {
      "cell_type": "markdown",
      "source": [
        "<img src=\"https://raw.githubusercontent.com/hectormelo/Machine-Learning-Techniques/main/Banner.png\" ><br>\n",
        "# Machine Learning Techniques - MISIS4219\n",
        "Primer semestre - 2024\n",
        "\n",
        "\n",
        "## Taller 6\n",
        "\n",
        "Este taller consta de un punto, el cual se desarrollara implementando todo lo que hemos visto en esta y las anteriores clases.\n",
        "\n",
        "**Integrante 1:** Andrés Felipe Aristizábal Miranda - 202416947\n",
        "\n",
        "**Integrante 2:**\n",
        "\n",
        "**NOTA:**  El archivo .pynb entregado debe tener todas las celdas ejecutadas, con los resultados visibles. El nombre del archivo debe ser NombreCompleto_Taller6.ipynb"
      ],
      "metadata": {
        "id": "YozZmnOlQXQB"
      }
    },
    {
      "cell_type": "code",
      "source": [
        "!pip install -q yfinance"
      ],
      "metadata": {
        "id": "LkWOCPGIQWY5"
      },
      "execution_count": 1,
      "outputs": []
    },
    {
      "cell_type": "markdown",
      "source": [
        "## Objetivo: Predecir los próximos valores de cierre de stocks de compañías, dado el registro histórico de estas"
      ],
      "metadata": {
        "id": "9DyVmf4pSaQI"
      }
    },
    {
      "cell_type": "code",
      "execution_count": 2,
      "metadata": {
        "id": "DmDue2XYOuP0"
      },
      "outputs": [],
      "source": [
        "import pandas as pd\n",
        "import numpy as np\n",
        "\n",
        "import matplotlib.pyplot as plt\n",
        "import seaborn as sns\n",
        "\n",
        "# Para leer los datos de Yahoo\n",
        "from pandas_datareader.data import DataReader\n",
        "import yfinance as yf\n",
        "\n",
        "# para settear tiempos\n",
        "from datetime import datetime\n",
        "\n",
        "import tensorflow as tf\n",
        "from tensorflow.keras.layers import Input, LSTM, Dense\n",
        "from tensorflow.keras.models import Model\n",
        "from tensorflow.keras.losses import SparseCategoricalCrossentropy\n",
        "from tensorflow.keras.optimizers import Adam\n",
        "from sklearn.metrics import mean_squared_error\n",
        "from tensorflow.keras.callbacks import EarlyStopping"
      ]
    },
    {
      "cell_type": "markdown",
      "source": [
        "## Dataset: Para este problema usaremos la librería yfinance, la cual retorna los valores de stock para diferentes empresas, en este caso tenemos los valores de APPLE - AAPL, GOOGLE - GOOG, Microsoft _ MSFT, Amazon - AMZN\n",
        "\n",
        "Como ejemplo solamente usamos los registros de 1 año, para el taller cambiar el codigo para ver los registros de los ultimos **3 años**"
      ],
      "metadata": {
        "id": "RNHIa138_0FC"
      }
    },
    {
      "cell_type": "code",
      "source": [
        "tech_list = ['AAPL', 'GOOG', 'MSFT', 'AMZN']\n",
        "\n",
        "#Asignamos el rango de fechas en las que queremos consultar los datos\n",
        "end = datetime.now() #fecha actual\n",
        "start = datetime(end.year - 3, end.month, end.day) #Fecha de hace un año\n",
        "\n",
        "for stock in tech_list:\n",
        "    globals()[stock] = yf.download(stock, start, end)"
      ],
      "metadata": {
        "colab": {
          "base_uri": "https://localhost:8080/"
        },
        "id": "XslhorV_RRxp",
        "outputId": "bd359543-93e7-4276-ae81-eecc855ef8b4"
      },
      "execution_count": 3,
      "outputs": [
        {
          "output_type": "stream",
          "name": "stderr",
          "text": [
            "[*********************100%%**********************]  1 of 1 completed\n",
            "[*********************100%%**********************]  1 of 1 completed\n",
            "[*********************100%%**********************]  1 of 1 completed\n",
            "[*********************100%%**********************]  1 of 1 completed\n"
          ]
        }
      ]
    },
    {
      "cell_type": "code",
      "source": [
        "company_list = [AAPL, GOOG, MSFT, AMZN]\n",
        "company_name = [\"APPLE\", \"GOOGLE\", \"MICROSOFT\", \"AMAZON\"]\n",
        "\n",
        "for company, com_name in zip(company_list, company_name):\n",
        "    company[\"company_name\"] = com_name\n",
        "\n",
        "df = pd.concat(company_list, axis=0)\n",
        "df.tail(10)"
      ],
      "metadata": {
        "colab": {
          "base_uri": "https://localhost:8080/",
          "height": 394
        },
        "id": "z5iB47NnRcN-",
        "outputId": "0b8fbc40-72e1-49e0-fa93-d72f0a20cd27"
      },
      "execution_count": 4,
      "outputs": [
        {
          "output_type": "execute_result",
          "data": {
            "text/plain": [
              "                  Open        High         Low       Close   Adj Close  \\\n",
              "Date                                                                     \n",
              "2024-04-08  186.899994  187.289993  184.809998  185.190002  185.190002   \n",
              "2024-04-09  187.240005  187.339996  184.199997  185.669998  185.669998   \n",
              "2024-04-10  182.770004  186.270004  182.669998  185.949997  185.949997   \n",
              "2024-04-11  186.740005  189.770004  185.509995  189.050003  189.050003   \n",
              "2024-04-12  187.720001  188.380005  185.080002  186.130005  186.130005   \n",
              "2024-04-15  187.429993  188.690002  183.000000  183.619995  183.619995   \n",
              "2024-04-16  183.270004  184.830002  182.259995  183.320007  183.320007   \n",
              "2024-04-17  184.309998  184.570007  179.820007  181.279999  181.279999   \n",
              "2024-04-18  181.470001  182.389999  178.649994  179.220001  179.220001   \n",
              "2024-04-19  178.740005  179.000000  173.440002  174.630005  174.630005   \n",
              "\n",
              "              Volume company_name  \n",
              "Date                               \n",
              "2024-04-08  39221300       AMAZON  \n",
              "2024-04-09  36546900       AMAZON  \n",
              "2024-04-10  35879200       AMAZON  \n",
              "2024-04-11  40020700       AMAZON  \n",
              "2024-04-12  38554300       AMAZON  \n",
              "2024-04-15  48052400       AMAZON  \n",
              "2024-04-16  32891300       AMAZON  \n",
              "2024-04-17  31359700       AMAZON  \n",
              "2024-04-18  30723800       AMAZON  \n",
              "2024-04-19  55950000       AMAZON  "
            ],
            "text/html": [
              "\n",
              "  <div id=\"df-f111a7d0-d4cd-4fa1-8e0c-b1a5fdd13eeb\" class=\"colab-df-container\">\n",
              "    <div>\n",
              "<style scoped>\n",
              "    .dataframe tbody tr th:only-of-type {\n",
              "        vertical-align: middle;\n",
              "    }\n",
              "\n",
              "    .dataframe tbody tr th {\n",
              "        vertical-align: top;\n",
              "    }\n",
              "\n",
              "    .dataframe thead th {\n",
              "        text-align: right;\n",
              "    }\n",
              "</style>\n",
              "<table border=\"1\" class=\"dataframe\">\n",
              "  <thead>\n",
              "    <tr style=\"text-align: right;\">\n",
              "      <th></th>\n",
              "      <th>Open</th>\n",
              "      <th>High</th>\n",
              "      <th>Low</th>\n",
              "      <th>Close</th>\n",
              "      <th>Adj Close</th>\n",
              "      <th>Volume</th>\n",
              "      <th>company_name</th>\n",
              "    </tr>\n",
              "    <tr>\n",
              "      <th>Date</th>\n",
              "      <th></th>\n",
              "      <th></th>\n",
              "      <th></th>\n",
              "      <th></th>\n",
              "      <th></th>\n",
              "      <th></th>\n",
              "      <th></th>\n",
              "    </tr>\n",
              "  </thead>\n",
              "  <tbody>\n",
              "    <tr>\n",
              "      <th>2024-04-08</th>\n",
              "      <td>186.899994</td>\n",
              "      <td>187.289993</td>\n",
              "      <td>184.809998</td>\n",
              "      <td>185.190002</td>\n",
              "      <td>185.190002</td>\n",
              "      <td>39221300</td>\n",
              "      <td>AMAZON</td>\n",
              "    </tr>\n",
              "    <tr>\n",
              "      <th>2024-04-09</th>\n",
              "      <td>187.240005</td>\n",
              "      <td>187.339996</td>\n",
              "      <td>184.199997</td>\n",
              "      <td>185.669998</td>\n",
              "      <td>185.669998</td>\n",
              "      <td>36546900</td>\n",
              "      <td>AMAZON</td>\n",
              "    </tr>\n",
              "    <tr>\n",
              "      <th>2024-04-10</th>\n",
              "      <td>182.770004</td>\n",
              "      <td>186.270004</td>\n",
              "      <td>182.669998</td>\n",
              "      <td>185.949997</td>\n",
              "      <td>185.949997</td>\n",
              "      <td>35879200</td>\n",
              "      <td>AMAZON</td>\n",
              "    </tr>\n",
              "    <tr>\n",
              "      <th>2024-04-11</th>\n",
              "      <td>186.740005</td>\n",
              "      <td>189.770004</td>\n",
              "      <td>185.509995</td>\n",
              "      <td>189.050003</td>\n",
              "      <td>189.050003</td>\n",
              "      <td>40020700</td>\n",
              "      <td>AMAZON</td>\n",
              "    </tr>\n",
              "    <tr>\n",
              "      <th>2024-04-12</th>\n",
              "      <td>187.720001</td>\n",
              "      <td>188.380005</td>\n",
              "      <td>185.080002</td>\n",
              "      <td>186.130005</td>\n",
              "      <td>186.130005</td>\n",
              "      <td>38554300</td>\n",
              "      <td>AMAZON</td>\n",
              "    </tr>\n",
              "    <tr>\n",
              "      <th>2024-04-15</th>\n",
              "      <td>187.429993</td>\n",
              "      <td>188.690002</td>\n",
              "      <td>183.000000</td>\n",
              "      <td>183.619995</td>\n",
              "      <td>183.619995</td>\n",
              "      <td>48052400</td>\n",
              "      <td>AMAZON</td>\n",
              "    </tr>\n",
              "    <tr>\n",
              "      <th>2024-04-16</th>\n",
              "      <td>183.270004</td>\n",
              "      <td>184.830002</td>\n",
              "      <td>182.259995</td>\n",
              "      <td>183.320007</td>\n",
              "      <td>183.320007</td>\n",
              "      <td>32891300</td>\n",
              "      <td>AMAZON</td>\n",
              "    </tr>\n",
              "    <tr>\n",
              "      <th>2024-04-17</th>\n",
              "      <td>184.309998</td>\n",
              "      <td>184.570007</td>\n",
              "      <td>179.820007</td>\n",
              "      <td>181.279999</td>\n",
              "      <td>181.279999</td>\n",
              "      <td>31359700</td>\n",
              "      <td>AMAZON</td>\n",
              "    </tr>\n",
              "    <tr>\n",
              "      <th>2024-04-18</th>\n",
              "      <td>181.470001</td>\n",
              "      <td>182.389999</td>\n",
              "      <td>178.649994</td>\n",
              "      <td>179.220001</td>\n",
              "      <td>179.220001</td>\n",
              "      <td>30723800</td>\n",
              "      <td>AMAZON</td>\n",
              "    </tr>\n",
              "    <tr>\n",
              "      <th>2024-04-19</th>\n",
              "      <td>178.740005</td>\n",
              "      <td>179.000000</td>\n",
              "      <td>173.440002</td>\n",
              "      <td>174.630005</td>\n",
              "      <td>174.630005</td>\n",
              "      <td>55950000</td>\n",
              "      <td>AMAZON</td>\n",
              "    </tr>\n",
              "  </tbody>\n",
              "</table>\n",
              "</div>\n",
              "    <div class=\"colab-df-buttons\">\n",
              "\n",
              "  <div class=\"colab-df-container\">\n",
              "    <button class=\"colab-df-convert\" onclick=\"convertToInteractive('df-f111a7d0-d4cd-4fa1-8e0c-b1a5fdd13eeb')\"\n",
              "            title=\"Convert this dataframe to an interactive table.\"\n",
              "            style=\"display:none;\">\n",
              "\n",
              "  <svg xmlns=\"http://www.w3.org/2000/svg\" height=\"24px\" viewBox=\"0 -960 960 960\">\n",
              "    <path d=\"M120-120v-720h720v720H120Zm60-500h600v-160H180v160Zm220 220h160v-160H400v160Zm0 220h160v-160H400v160ZM180-400h160v-160H180v160Zm440 0h160v-160H620v160ZM180-180h160v-160H180v160Zm440 0h160v-160H620v160Z\"/>\n",
              "  </svg>\n",
              "    </button>\n",
              "\n",
              "  <style>\n",
              "    .colab-df-container {\n",
              "      display:flex;\n",
              "      gap: 12px;\n",
              "    }\n",
              "\n",
              "    .colab-df-convert {\n",
              "      background-color: #E8F0FE;\n",
              "      border: none;\n",
              "      border-radius: 50%;\n",
              "      cursor: pointer;\n",
              "      display: none;\n",
              "      fill: #1967D2;\n",
              "      height: 32px;\n",
              "      padding: 0 0 0 0;\n",
              "      width: 32px;\n",
              "    }\n",
              "\n",
              "    .colab-df-convert:hover {\n",
              "      background-color: #E2EBFA;\n",
              "      box-shadow: 0px 1px 2px rgba(60, 64, 67, 0.3), 0px 1px 3px 1px rgba(60, 64, 67, 0.15);\n",
              "      fill: #174EA6;\n",
              "    }\n",
              "\n",
              "    .colab-df-buttons div {\n",
              "      margin-bottom: 4px;\n",
              "    }\n",
              "\n",
              "    [theme=dark] .colab-df-convert {\n",
              "      background-color: #3B4455;\n",
              "      fill: #D2E3FC;\n",
              "    }\n",
              "\n",
              "    [theme=dark] .colab-df-convert:hover {\n",
              "      background-color: #434B5C;\n",
              "      box-shadow: 0px 1px 3px 1px rgba(0, 0, 0, 0.15);\n",
              "      filter: drop-shadow(0px 1px 2px rgba(0, 0, 0, 0.3));\n",
              "      fill: #FFFFFF;\n",
              "    }\n",
              "  </style>\n",
              "\n",
              "    <script>\n",
              "      const buttonEl =\n",
              "        document.querySelector('#df-f111a7d0-d4cd-4fa1-8e0c-b1a5fdd13eeb button.colab-df-convert');\n",
              "      buttonEl.style.display =\n",
              "        google.colab.kernel.accessAllowed ? 'block' : 'none';\n",
              "\n",
              "      async function convertToInteractive(key) {\n",
              "        const element = document.querySelector('#df-f111a7d0-d4cd-4fa1-8e0c-b1a5fdd13eeb');\n",
              "        const dataTable =\n",
              "          await google.colab.kernel.invokeFunction('convertToInteractive',\n",
              "                                                    [key], {});\n",
              "        if (!dataTable) return;\n",
              "\n",
              "        const docLinkHtml = 'Like what you see? Visit the ' +\n",
              "          '<a target=\"_blank\" href=https://colab.research.google.com/notebooks/data_table.ipynb>data table notebook</a>'\n",
              "          + ' to learn more about interactive tables.';\n",
              "        element.innerHTML = '';\n",
              "        dataTable['output_type'] = 'display_data';\n",
              "        await google.colab.output.renderOutput(dataTable, element);\n",
              "        const docLink = document.createElement('div');\n",
              "        docLink.innerHTML = docLinkHtml;\n",
              "        element.appendChild(docLink);\n",
              "      }\n",
              "    </script>\n",
              "  </div>\n",
              "\n",
              "\n",
              "<div id=\"df-5a567e57-1845-4544-8d4d-d8b0ea42cbf4\">\n",
              "  <button class=\"colab-df-quickchart\" onclick=\"quickchart('df-5a567e57-1845-4544-8d4d-d8b0ea42cbf4')\"\n",
              "            title=\"Suggest charts\"\n",
              "            style=\"display:none;\">\n",
              "\n",
              "<svg xmlns=\"http://www.w3.org/2000/svg\" height=\"24px\"viewBox=\"0 0 24 24\"\n",
              "     width=\"24px\">\n",
              "    <g>\n",
              "        <path d=\"M19 3H5c-1.1 0-2 .9-2 2v14c0 1.1.9 2 2 2h14c1.1 0 2-.9 2-2V5c0-1.1-.9-2-2-2zM9 17H7v-7h2v7zm4 0h-2V7h2v10zm4 0h-2v-4h2v4z\"/>\n",
              "    </g>\n",
              "</svg>\n",
              "  </button>\n",
              "\n",
              "<style>\n",
              "  .colab-df-quickchart {\n",
              "      --bg-color: #E8F0FE;\n",
              "      --fill-color: #1967D2;\n",
              "      --hover-bg-color: #E2EBFA;\n",
              "      --hover-fill-color: #174EA6;\n",
              "      --disabled-fill-color: #AAA;\n",
              "      --disabled-bg-color: #DDD;\n",
              "  }\n",
              "\n",
              "  [theme=dark] .colab-df-quickchart {\n",
              "      --bg-color: #3B4455;\n",
              "      --fill-color: #D2E3FC;\n",
              "      --hover-bg-color: #434B5C;\n",
              "      --hover-fill-color: #FFFFFF;\n",
              "      --disabled-bg-color: #3B4455;\n",
              "      --disabled-fill-color: #666;\n",
              "  }\n",
              "\n",
              "  .colab-df-quickchart {\n",
              "    background-color: var(--bg-color);\n",
              "    border: none;\n",
              "    border-radius: 50%;\n",
              "    cursor: pointer;\n",
              "    display: none;\n",
              "    fill: var(--fill-color);\n",
              "    height: 32px;\n",
              "    padding: 0;\n",
              "    width: 32px;\n",
              "  }\n",
              "\n",
              "  .colab-df-quickchart:hover {\n",
              "    background-color: var(--hover-bg-color);\n",
              "    box-shadow: 0 1px 2px rgba(60, 64, 67, 0.3), 0 1px 3px 1px rgba(60, 64, 67, 0.15);\n",
              "    fill: var(--button-hover-fill-color);\n",
              "  }\n",
              "\n",
              "  .colab-df-quickchart-complete:disabled,\n",
              "  .colab-df-quickchart-complete:disabled:hover {\n",
              "    background-color: var(--disabled-bg-color);\n",
              "    fill: var(--disabled-fill-color);\n",
              "    box-shadow: none;\n",
              "  }\n",
              "\n",
              "  .colab-df-spinner {\n",
              "    border: 2px solid var(--fill-color);\n",
              "    border-color: transparent;\n",
              "    border-bottom-color: var(--fill-color);\n",
              "    animation:\n",
              "      spin 1s steps(1) infinite;\n",
              "  }\n",
              "\n",
              "  @keyframes spin {\n",
              "    0% {\n",
              "      border-color: transparent;\n",
              "      border-bottom-color: var(--fill-color);\n",
              "      border-left-color: var(--fill-color);\n",
              "    }\n",
              "    20% {\n",
              "      border-color: transparent;\n",
              "      border-left-color: var(--fill-color);\n",
              "      border-top-color: var(--fill-color);\n",
              "    }\n",
              "    30% {\n",
              "      border-color: transparent;\n",
              "      border-left-color: var(--fill-color);\n",
              "      border-top-color: var(--fill-color);\n",
              "      border-right-color: var(--fill-color);\n",
              "    }\n",
              "    40% {\n",
              "      border-color: transparent;\n",
              "      border-right-color: var(--fill-color);\n",
              "      border-top-color: var(--fill-color);\n",
              "    }\n",
              "    60% {\n",
              "      border-color: transparent;\n",
              "      border-right-color: var(--fill-color);\n",
              "    }\n",
              "    80% {\n",
              "      border-color: transparent;\n",
              "      border-right-color: var(--fill-color);\n",
              "      border-bottom-color: var(--fill-color);\n",
              "    }\n",
              "    90% {\n",
              "      border-color: transparent;\n",
              "      border-bottom-color: var(--fill-color);\n",
              "    }\n",
              "  }\n",
              "</style>\n",
              "\n",
              "  <script>\n",
              "    async function quickchart(key) {\n",
              "      const quickchartButtonEl =\n",
              "        document.querySelector('#' + key + ' button');\n",
              "      quickchartButtonEl.disabled = true;  // To prevent multiple clicks.\n",
              "      quickchartButtonEl.classList.add('colab-df-spinner');\n",
              "      try {\n",
              "        const charts = await google.colab.kernel.invokeFunction(\n",
              "            'suggestCharts', [key], {});\n",
              "      } catch (error) {\n",
              "        console.error('Error during call to suggestCharts:', error);\n",
              "      }\n",
              "      quickchartButtonEl.classList.remove('colab-df-spinner');\n",
              "      quickchartButtonEl.classList.add('colab-df-quickchart-complete');\n",
              "    }\n",
              "    (() => {\n",
              "      let quickchartButtonEl =\n",
              "        document.querySelector('#df-5a567e57-1845-4544-8d4d-d8b0ea42cbf4 button');\n",
              "      quickchartButtonEl.style.display =\n",
              "        google.colab.kernel.accessAllowed ? 'block' : 'none';\n",
              "    })();\n",
              "  </script>\n",
              "</div>\n",
              "    </div>\n",
              "  </div>\n"
            ],
            "application/vnd.google.colaboratory.intrinsic+json": {
              "type": "dataframe",
              "summary": "{\n  \"name\": \"df\",\n  \"rows\": 10,\n  \"fields\": [\n    {\n      \"column\": \"Date\",\n      \"properties\": {\n        \"dtype\": \"date\",\n        \"min\": \"2024-04-08 00:00:00\",\n        \"max\": \"2024-04-19 00:00:00\",\n        \"num_unique_values\": 10,\n        \"samples\": [\n          \"2024-04-18 00:00:00\",\n          \"2024-04-09 00:00:00\",\n          \"2024-04-15 00:00:00\"\n        ],\n        \"semantic_type\": \"\",\n        \"description\": \"\"\n      }\n    },\n    {\n      \"column\": \"Open\",\n      \"properties\": {\n        \"dtype\": \"number\",\n        \"std\": 3.052976355132248,\n        \"min\": 178.74000549316406,\n        \"max\": 187.72000122070312,\n        \"num_unique_values\": 10,\n        \"samples\": [\n          181.47000122070312,\n          187.24000549316406,\n          187.42999267578125\n        ],\n        \"semantic_type\": \"\",\n        \"description\": \"\"\n      }\n    },\n    {\n      \"column\": \"High\",\n      \"properties\": {\n        \"dtype\": \"number\",\n        \"std\": 3.263873585929786,\n        \"min\": 179.0,\n        \"max\": 189.77000427246094,\n        \"num_unique_values\": 10,\n        \"samples\": [\n          182.38999938964844,\n          187.33999633789062,\n          188.69000244140625\n        ],\n        \"semantic_type\": \"\",\n        \"description\": \"\"\n      }\n    },\n    {\n      \"column\": \"Low\",\n      \"properties\": {\n        \"dtype\": \"number\",\n        \"std\": 3.7308942327914854,\n        \"min\": 173.44000244140625,\n        \"max\": 185.50999450683594,\n        \"num_unique_values\": 10,\n        \"samples\": [\n          178.64999389648438,\n          184.1999969482422,\n          183.0\n        ],\n        \"semantic_type\": \"\",\n        \"description\": \"\"\n      }\n    },\n    {\n      \"column\": \"Close\",\n      \"properties\": {\n        \"dtype\": \"number\",\n        \"std\": 4.125382027568831,\n        \"min\": 174.6300048828125,\n        \"max\": 189.0500030517578,\n        \"num_unique_values\": 10,\n        \"samples\": [\n          179.22000122070312,\n          185.6699981689453,\n          183.6199951171875\n        ],\n        \"semantic_type\": \"\",\n        \"description\": \"\"\n      }\n    },\n    {\n      \"column\": \"Adj Close\",\n      \"properties\": {\n        \"dtype\": \"number\",\n        \"std\": 4.125382027568831,\n        \"min\": 174.6300048828125,\n        \"max\": 189.0500030517578,\n        \"num_unique_values\": 10,\n        \"samples\": [\n          179.22000122070312,\n          185.6699981689453,\n          183.6199951171875\n        ],\n        \"semantic_type\": \"\",\n        \"description\": \"\"\n      }\n    },\n    {\n      \"column\": \"Volume\",\n      \"properties\": {\n        \"dtype\": \"number\",\n        \"std\": 7820321,\n        \"min\": 30723800,\n        \"max\": 55950000,\n        \"num_unique_values\": 10,\n        \"samples\": [\n          30723800,\n          36546900,\n          48052400\n        ],\n        \"semantic_type\": \"\",\n        \"description\": \"\"\n      }\n    },\n    {\n      \"column\": \"company_name\",\n      \"properties\": {\n        \"dtype\": \"category\",\n        \"num_unique_values\": 1,\n        \"samples\": [\n          \"AMAZON\"\n        ],\n        \"semantic_type\": \"\",\n        \"description\": \"\"\n      }\n    }\n  ]\n}"
            }
          },
          "metadata": {},
          "execution_count": 4
        }
      ]
    },
    {
      "cell_type": "markdown",
      "source": [
        "# Seleccionar los datos de una de las compañías previamente ejecutadas y obtener los valores de stock de cierre (Close o Adj close)"
      ],
      "metadata": {
        "id": "xV_O7cFMSKyG"
      }
    },
    {
      "cell_type": "code",
      "source": [
        "google_close_data = df[df['company_name'] == 'GOOGLE']['Adj Close']\n",
        "\n",
        "print(google_close_data.tail(10))"
      ],
      "metadata": {
        "id": "I8AaZrZ2CFwz",
        "colab": {
          "base_uri": "https://localhost:8080/"
        },
        "outputId": "5b1044c7-befa-420f-c086-81fbc1246220"
      },
      "execution_count": 6,
      "outputs": [
        {
          "output_type": "stream",
          "name": "stdout",
          "text": [
            "Date\n",
            "2024-04-08    156.139999\n",
            "2024-04-09    158.139999\n",
            "2024-04-10    157.660004\n",
            "2024-04-11    160.789993\n",
            "2024-04-12    159.190002\n",
            "2024-04-15    156.330002\n",
            "2024-04-16    156.000000\n",
            "2024-04-17    156.880005\n",
            "2024-04-18    157.460007\n",
            "2024-04-19    155.720001\n",
            "Name: Adj Close, dtype: float64\n"
          ]
        }
      ]
    },
    {
      "cell_type": "code",
      "source": [
        "test_dates = df[df['company_name'] == 'GOOGLE'].index[-num_test_samples:]"
      ],
      "metadata": {
        "id": "R0Yj_hDz3l9O"
      },
      "execution_count": 25,
      "outputs": []
    },
    {
      "cell_type": "markdown",
      "source": [
        "## Graficar la variación de los precios de salida a lo largo del tiempo seleccionado"
      ],
      "metadata": {
        "id": "3oRBYoh1StoY"
      }
    },
    {
      "cell_type": "code",
      "source": [
        "# Graficar la variación de los precios ajustados al cierre\n",
        "plt.figure(figsize=(10, 5))  # Tamaño del gráfico\n",
        "plt.plot(google_close_data.index, google_close_data, label='Precio de Cierre Ajustado (Adj Close)', color='blue')\n",
        "plt.title('Variación del Precio de Cierre Ajustado de Google')\n",
        "plt.xlabel('Fecha')\n",
        "plt.ylabel('Precio de Cierre Ajustado (USD)')\n",
        "plt.legend()\n",
        "plt.grid(True)\n",
        "plt.show()"
      ],
      "metadata": {
        "id": "GUW81M-NS98M",
        "colab": {
          "base_uri": "https://localhost:8080/",
          "height": 488
        },
        "outputId": "1774ee80-db65-4a5c-8608-bd6010bcde34"
      },
      "execution_count": 7,
      "outputs": [
        {
          "output_type": "display_data",
          "data": {
            "text/plain": [
              "<Figure size 1000x500 with 1 Axes>"
            ],
            "image/png": "[encoded data removed]"
          },
          "metadata": {}
        }
      ]
    },
    {
      "cell_type": "markdown",
      "source": [
        "## Tomar el 60% de los datos para entrenar 20% para validación y 20% para test"
      ],
      "metadata": {
        "id": "XjIq7O27qtqw"
      }
    },
    {
      "cell_type": "code",
      "source": [
        "raw_data = df[df['company_name'] == 'GOOGLE']['Adj Close'].values               # Nota: usar .value para convertirlo en un array de numpy\n",
        "num_train_samples = int(0.6 * len(raw_data))                                    #60% de los datos\n",
        "num_val_samples = int(0.2 * len(raw_data))                                      #20% de los datos\n",
        "num_test_samples = len(raw_data) - num_train_samples - num_val_samples          # Los datos restantes\n",
        "print(\"num_train_samples:\", num_train_samples)\n",
        "print(\"num_val_samples:\", num_val_samples)\n",
        "print(\"num_test_samples:\", num_test_samples)"
      ],
      "metadata": {
        "id": "jV-3raOTqtKt",
        "colab": {
          "base_uri": "https://localhost:8080/"
        },
        "outputId": "3f37dd7c-f701-4523-f43e-cf463160d04f"
      },
      "execution_count": 8,
      "outputs": [
        {
          "output_type": "stream",
          "name": "stdout",
          "text": [
            "num_train_samples: 453\n",
            "num_val_samples: 151\n",
            "num_test_samples: 152\n"
          ]
        }
      ]
    },
    {
      "cell_type": "code",
      "source": [
        "# Estandarizacion de los datos. primero restamos los valores por la media y luego se dividen por\n",
        "# la desviación estandar\n",
        "mean = raw_data[:num_train_samples].mean(axis=0)\n",
        "raw_data -= mean\n",
        "std = raw_data[:num_train_samples].std(axis=0)\n",
        "raw_data /= std"
      ],
      "metadata": {
        "id": "n3fv2Zr26tgX"
      },
      "execution_count": 9,
      "outputs": []
    },
    {
      "cell_type": "markdown",
      "source": [
        "## Dividir los datos en X y Y.\n",
        "Aquí realizamos en ejemplo con el entrenamiento. **Elaborar los datos para el test y validación**"
      ],
      "metadata": {
        "id": "7rnY63cGPzq8"
      }
    },
    {
      "cell_type": "code",
      "source": [
        "# dividir los en x_train y y_train\n",
        "train_data = raw_data[:num_train_samples]\n",
        "valid_data = raw_data[:num_val_samples]\n",
        "test_data = raw_data[:num_test_samples]\n",
        "\n",
        "# Verificar dimensiones\n",
        "print(f\"train shape: {train_data.shape}\")\n",
        "print(f\"x_valid shape: {valid_data.shape}\")\n",
        "print(f\"x_test shape: {test_data.shape}\")"
      ],
      "metadata": {
        "id": "-wr60Louzm_l",
        "colab": {
          "base_uri": "https://localhost:8080/"
        },
        "outputId": "92aa7660-8a41-437f-f05c-971d703b8344"
      },
      "execution_count": 10,
      "outputs": [
        {
          "output_type": "stream",
          "name": "stdout",
          "text": [
            "train shape: (453,)\n",
            "x_valid shape: (151,)\n",
            "x_test shape: (152,)\n"
          ]
        }
      ]
    },
    {
      "cell_type": "markdown",
      "source": [
        "Para crear nuestro dataset de entrenamiento, prueba y validación usaremos la función 'timeseries_dataset_from_array'.\n",
        "\n",
        "La idea general es que al proporcionar una matriz de datos de series temporales (el argumento de datos), timeseries_dataset_from_array\n",
        "te da ventanas extraídas de la serie temporal original.\n",
        "\n",
        "Por ejemplo, supomgamos que nuestros datos son: [0 1 2 3 4 5 6] y sequence_length=3, entonces timeseries_dataset_from_array generará las siguientes muestras: [0 1 2], [2 3 4], [3 4 5], [4 5 6].\n",
        "\n",
        "Usaremos la función timeseries_dataset_from_array para inicializar tres datasets: uno para entrenamiento, otro para prueba y otro para validación:\n",
        "\n",
        "\n",
        "* sequence_length : Longitud de las secuencias de salida (en número de pasos de tiempo).\n",
        "\n",
        "\n",
        "Documentación: https://www.tensorflow.org/api_docs/python/tf/keras/utils/timeseries_dataset_from_array\n"
      ],
      "metadata": {
        "id": "GPHeosUet3dD"
      }
    },
    {
      "cell_type": "code",
      "source": [
        "import numpy as np\n",
        "from tensorflow import keras\n",
        "\n",
        "batch_size = 4\n",
        "sequence_length = 60\n",
        "\n",
        "# Dataset de entrenamiento\n",
        "train_dataset = keras.utils.timeseries_dataset_from_array(\n",
        "    data=train_data[:-sequence_length],\n",
        "    targets=train_data[sequence_length:],\n",
        "    sequence_length=sequence_length,\n",
        "    sequence_stride=1,                                                          # Esto determina el salto entre dos secuencias sucesivas\n",
        "    sampling_rate=1,                                                            # Esto determina el rate en el que se toman puntos de la secuencia\n",
        "    batch_size=batch_size,\n",
        "    shuffle=True\n",
        ")\n",
        "\n",
        "# Dataset de validación\n",
        "validation_dataset = keras.utils.timeseries_dataset_from_array(\n",
        "    data=valid_data[:-sequence_length],\n",
        "    targets=valid_data[sequence_length:],\n",
        "    sequence_length=sequence_length,\n",
        "    sequence_stride=1,\n",
        "    sampling_rate=1,\n",
        "    batch_size=batch_size,\n",
        "    shuffle=False\n",
        ")\n",
        "\n",
        "# Dataset de prueba\n",
        "test_dataset = keras.utils.timeseries_dataset_from_array(\n",
        "    data=test_data[:-sequence_length],\n",
        "    targets=test_data[sequence_length:],\n",
        "    sequence_length=sequence_length,\n",
        "    sequence_stride=1,\n",
        "    sampling_rate=1,\n",
        "    batch_size=batch_size,\n",
        "    shuffle=False\n",
        ")"
      ],
      "metadata": {
        "id": "wsK6XqZKseDG"
      },
      "execution_count": 11,
      "outputs": []
    },
    {
      "cell_type": "code",
      "source": [
        "for dataset in [train_dataset, validation_dataset, test_dataset]:\n",
        "    for samples, target in dataset.take(1):                                     # Tomamos solo el primer batch para inspección\n",
        "        print(f'sample shape: {samples.shape}, target shape: {target.shape}')"
      ],
      "metadata": {
        "id": "eOADBMx_9GNf",
        "colab": {
          "base_uri": "https://localhost:8080/"
        },
        "outputId": "2974691d-59e3-4fc9-f0b0-01a02e229025"
      },
      "execution_count": 12,
      "outputs": [
        {
          "output_type": "stream",
          "name": "stdout",
          "text": [
            "sample shape: (4, 60), target shape: (4,)\n",
            "sample shape: (4, 60), target shape: (4,)\n",
            "sample shape: (4, 60), target shape: (4,)\n"
          ]
        }
      ]
    },
    {
      "cell_type": "markdown",
      "source": [
        "# Crear Modelo"
      ],
      "metadata": {
        "id": "a1AhkHCE_AyK"
      }
    },
    {
      "cell_type": "code",
      "source": [
        "# Definición de la entrada\n",
        "inputs = Input(shape=(60, 1))                                                   # 60 timesteps, cada uno con 1 feature\n",
        "\n",
        "# Agregando la capa LSTM\n",
        "x = LSTM(128)(inputs)                                                           # 128 unidades en la capa LSTM\n",
        "\n",
        "# Capa de salida\n",
        "outputs = Dense(1)(x)                                                           # Una única salida\n",
        "\n",
        "# Creación del modelo\n",
        "model = Model(inputs, outputs)\n",
        "\n",
        "# Compilación del modelo\n",
        "model.compile(optimizer='adam', loss='mse')                                     # Usando Adam como optimizador y MSE como función de pérdida\n",
        "\n",
        "# Mostrando el resumen del modelo\n",
        "model.summary()"
      ],
      "metadata": {
        "colab": {
          "base_uri": "https://localhost:8080/"
        },
        "id": "vLKfHpcasndp",
        "outputId": "7f1b9ea2-7e3b-4b93-a799-9fdcf69d7717"
      },
      "execution_count": 13,
      "outputs": [
        {
          "output_type": "stream",
          "name": "stdout",
          "text": [
            "Model: \"model\"\n",
            "_________________________________________________________________\n",
            " Layer (type)                Output Shape              Param #   \n",
            "=================================================================\n",
            " input_1 (InputLayer)        [(None, 60, 1)]           0         \n",
            "                                                                 \n",
            " lstm (LSTM)                 (None, 128)               66560     \n",
            "                                                                 \n",
            " dense (Dense)               (None, 1)                 129       \n",
            "                                                                 \n",
            "=================================================================\n",
            "Total params: 66689 (260.50 KB)\n",
            "Trainable params: 66689 (260.50 KB)\n",
            "Non-trainable params: 0 (0.00 Byte)\n",
            "_________________________________________________________________\n"
          ]
        }
      ]
    },
    {
      "cell_type": "code",
      "source": [
        "# Configurar Early Stopping\n",
        "early_stopping_callback = EarlyStopping(\n",
        "    monitor='val_loss',                                                         # Monitorea el 'val_loss' (pérdida de validación)\n",
        "    patience=10,                                                                # Número de épocas sin mejora después de las cuales el entrenamiento se detendrá\n",
        "    verbose=1,                                                                  # Muestra mensajes cuando el entrenamiento se detiene\n",
        "    restore_best_weights=True                                                   # Restaura los pesos del modelo desde la época con el mejor valor de 'val_loss'\n",
        ")"
      ],
      "metadata": {
        "id": "rJoJ-fz1z_aB"
      },
      "execution_count": 14,
      "outputs": []
    },
    {
      "cell_type": "code",
      "source": [
        "# Entrenamiento del modelo\n",
        "history = model.fit(\n",
        "    train_dataset,                                                              # Dataset de entrenamiento\n",
        "    epochs=50,                                                                  # Número de épocas para entrenar el modelo\n",
        "    validation_data=validation_dataset,                                         # Opcional: proporcionar el dataset de validación\n",
        "    verbose=1                                                                   # Muestra una barra de progreso y mensajes de entrenamiento\n",
        ")"
      ],
      "metadata": {
        "colab": {
          "base_uri": "https://localhost:8080/"
        },
        "id": "3PEz5bdSssjP",
        "outputId": "21ebe499-1b89-4d41-d6de-5d523f12809a"
      },
      "execution_count": 15,
      "outputs": [
        {
          "output_type": "stream",
          "name": "stdout",
          "text": [
            "Epoch 1/50\n",
            "84/84 [==============================] - 11s 77ms/step - loss: 0.1312 - val_loss: 0.0348\n",
            "Epoch 2/50\n",
            "84/84 [==============================] - 5s 63ms/step - loss: 0.0579 - val_loss: 0.0312\n",
            "Epoch 3/50\n",
            "84/84 [==============================] - 3s 30ms/step - loss: 0.0489 - val_loss: 0.0252\n",
            "Epoch 4/50\n",
            "84/84 [==============================] - 3s 30ms/step - loss: 0.0420 - val_loss: 0.0242\n",
            "Epoch 5/50\n",
            "84/84 [==============================] - 4s 44ms/step - loss: 0.0394 - val_loss: 0.0123\n",
            "Epoch 6/50\n",
            "84/84 [==============================] - 3s 31ms/step - loss: 0.0352 - val_loss: 0.0201\n",
            "Epoch 7/50\n",
            "84/84 [==============================] - 3s 29ms/step - loss: 0.0338 - val_loss: 0.0205\n",
            "Epoch 8/50\n",
            "84/84 [==============================] - 3s 30ms/step - loss: 0.0312 - val_loss: 0.0227\n",
            "Epoch 9/50\n",
            "84/84 [==============================] - 3s 37ms/step - loss: 0.0298 - val_loss: 0.0122\n",
            "Epoch 10/50\n",
            "84/84 [==============================] - 3s 30ms/step - loss: 0.0287 - val_loss: 0.0112\n",
            "Epoch 11/50\n",
            "84/84 [==============================] - 3s 30ms/step - loss: 0.0285 - val_loss: 0.0149\n",
            "Epoch 12/50\n",
            "84/84 [==============================] - 2s 29ms/step - loss: 0.0266 - val_loss: 0.0088\n",
            "Epoch 13/50\n",
            "84/84 [==============================] - 3s 38ms/step - loss: 0.0242 - val_loss: 0.0197\n",
            "Epoch 14/50\n",
            "84/84 [==============================] - 3s 30ms/step - loss: 0.0246 - val_loss: 0.0156\n",
            "Epoch 15/50\n",
            "84/84 [==============================] - 2s 29ms/step - loss: 0.0241 - val_loss: 0.0122\n",
            "Epoch 16/50\n",
            "84/84 [==============================] - 3s 31ms/step - loss: 0.0228 - val_loss: 0.0077\n",
            "Epoch 17/50\n",
            "84/84 [==============================] - 3s 31ms/step - loss: 0.0223 - val_loss: 0.0127\n",
            "Epoch 18/50\n",
            "84/84 [==============================] - 2s 29ms/step - loss: 0.0232 - val_loss: 0.0153\n",
            "Epoch 19/50\n",
            "84/84 [==============================] - 3s 29ms/step - loss: 0.0221 - val_loss: 0.0133\n",
            "Epoch 20/50\n",
            "84/84 [==============================] - 3s 30ms/step - loss: 0.0225 - val_loss: 0.0069\n",
            "Epoch 21/50\n",
            "84/84 [==============================] - 3s 35ms/step - loss: 0.0212 - val_loss: 0.0095\n",
            "Epoch 22/50\n",
            "84/84 [==============================] - 3s 30ms/step - loss: 0.0214 - val_loss: 0.0068\n",
            "Epoch 23/50\n",
            "84/84 [==============================] - 2s 29ms/step - loss: 0.0214 - val_loss: 0.0075\n",
            "Epoch 24/50\n",
            "84/84 [==============================] - 2s 29ms/step - loss: 0.0212 - val_loss: 0.0069\n",
            "Epoch 25/50\n",
            "84/84 [==============================] - 3s 41ms/step - loss: 0.0216 - val_loss: 0.0091\n",
            "Epoch 26/50\n",
            "84/84 [==============================] - 3s 30ms/step - loss: 0.0219 - val_loss: 0.0068\n",
            "Epoch 27/50\n",
            "84/84 [==============================] - 3s 31ms/step - loss: 0.0211 - val_loss: 0.0082\n",
            "Epoch 28/50\n",
            "84/84 [==============================] - 3s 33ms/step - loss: 0.0223 - val_loss: 0.0098\n",
            "Epoch 29/50\n",
            "84/84 [==============================] - 3s 39ms/step - loss: 0.0213 - val_loss: 0.0085\n",
            "Epoch 30/50\n",
            "84/84 [==============================] - 4s 44ms/step - loss: 0.0226 - val_loss: 0.0066\n",
            "Epoch 31/50\n",
            "84/84 [==============================] - 2s 29ms/step - loss: 0.0217 - val_loss: 0.0103\n",
            "Epoch 32/50\n",
            "84/84 [==============================] - 3s 39ms/step - loss: 0.0218 - val_loss: 0.0095\n",
            "Epoch 33/50\n",
            "84/84 [==============================] - 3s 31ms/step - loss: 0.0211 - val_loss: 0.0079\n",
            "Epoch 34/50\n",
            "84/84 [==============================] - 3s 30ms/step - loss: 0.0216 - val_loss: 0.0076\n",
            "Epoch 35/50\n",
            "84/84 [==============================] - 3s 41ms/step - loss: 0.0210 - val_loss: 0.0068\n",
            "Epoch 36/50\n",
            "84/84 [==============================] - 3s 31ms/step - loss: 0.0216 - val_loss: 0.0080\n",
            "Epoch 37/50\n",
            "84/84 [==============================] - 2s 29ms/step - loss: 0.0209 - val_loss: 0.0069\n",
            "Epoch 38/50\n",
            "84/84 [==============================] - 2s 29ms/step - loss: 0.0211 - val_loss: 0.0071\n",
            "Epoch 39/50\n",
            "84/84 [==============================] - 3s 39ms/step - loss: 0.0212 - val_loss: 0.0086\n",
            "Epoch 40/50\n",
            "84/84 [==============================] - 3s 31ms/step - loss: 0.0211 - val_loss: 0.0080\n",
            "Epoch 41/50\n",
            "84/84 [==============================] - 3s 31ms/step - loss: 0.0210 - val_loss: 0.0085\n",
            "Epoch 42/50\n",
            "84/84 [==============================] - 3s 38ms/step - loss: 0.0209 - val_loss: 0.0081\n",
            "Epoch 43/50\n",
            "84/84 [==============================] - 2s 29ms/step - loss: 0.0210 - val_loss: 0.0080\n",
            "Epoch 44/50\n",
            "84/84 [==============================] - 2s 29ms/step - loss: 0.0222 - val_loss: 0.0079\n",
            "Epoch 45/50\n",
            "84/84 [==============================] - 3s 31ms/step - loss: 0.0213 - val_loss: 0.0070\n",
            "Epoch 46/50\n",
            "84/84 [==============================] - 3s 38ms/step - loss: 0.0209 - val_loss: 0.0075\n",
            "Epoch 47/50\n",
            "84/84 [==============================] - 2s 29ms/step - loss: 0.0204 - val_loss: 0.0090\n",
            "Epoch 48/50\n",
            "84/84 [==============================] - 3s 30ms/step - loss: 0.0215 - val_loss: 0.0102\n",
            "Epoch 49/50\n",
            "84/84 [==============================] - 2s 29ms/step - loss: 0.0216 - val_loss: 0.0078\n",
            "Epoch 50/50\n",
            "84/84 [==============================] - 3s 35ms/step - loss: 0.0209 - val_loss: 0.0093\n"
          ]
        }
      ]
    },
    {
      "cell_type": "markdown",
      "source": [
        "# Evaluación del modelo"
      ],
      "metadata": {
        "id": "bcj_PpmG_ULI"
      }
    },
    {
      "cell_type": "code",
      "source": [
        "# Recolectar las etiquetas y predicciones\n",
        "y_true = []\n",
        "predictions = []\n",
        "\n",
        "for batch in test_dataset:\n",
        "    features, labels = batch\n",
        "    preds = model.predict(features)\n",
        "    predictions.extend(preds.flatten())  # Aplanar las predicciones si son multidimensionales\n",
        "    y_true.extend(labels.numpy().flatten())  # Asegurarse de convertir a numpy y aplanar\n",
        "\n",
        "# Convertir a arrays de numpy para cálculo de métricas\n",
        "y_true = np.array(y_true)\n",
        "test_predictions = np.array(predictions)\n",
        "\n",
        "mse = mean_squared_error(y_true, predictions)\n",
        "print(f'El error cuadrático medio (MSE) en el conjunto de prueba es: {mse}')"
      ],
      "metadata": {
        "id": "_LOUmbYj_W-A",
        "colab": {
          "base_uri": "https://localhost:8080/"
        },
        "outputId": "1d2df7a1-4721-48a9-f124-310851165ba2"
      },
      "execution_count": 16,
      "outputs": [
        {
          "output_type": "stream",
          "name": "stdout",
          "text": [
            "1/1 [==============================] - 1s 512ms/step\n",
            "1/1 [==============================] - 0s 31ms/step\n",
            "1/1 [==============================] - 0s 33ms/step\n",
            "1/1 [==============================] - 0s 32ms/step\n",
            "1/1 [==============================] - 0s 31ms/step\n",
            "1/1 [==============================] - 0s 30ms/step\n",
            "1/1 [==============================] - 0s 30ms/step\n",
            "1/1 [==============================] - 0s 27ms/step\n",
            "1/1 [==============================] - 0s 29ms/step\n",
            "El error cuadrático medio (MSE) en el conjunto de prueba es: 0.009420454183316834\n"
          ]
        }
      ]
    },
    {
      "cell_type": "markdown",
      "source": [
        "## Graficar resultados"
      ],
      "metadata": {
        "id": "wrtV_kRn_XeD"
      }
    },
    {
      "cell_type": "code",
      "source": [
        "plt.figure(figsize=(10, 6))\n",
        "plt.plot(y_true, label='Real')\n",
        "plt.plot(test_predictions, label='Predicción', linestyle='--', marker='x')\n",
        "plt.title('Comparación de Valores Reales vs. Predicciones')\n",
        "plt.xlabel('Tiempo')\n",
        "plt.ylabel('Valor')\n",
        "plt.legend()\n",
        "plt.show()"
      ],
      "metadata": {
        "colab": {
          "base_uri": "https://localhost:8080/",
          "height": 565
        },
        "id": "B1yo7eBxymjj",
        "outputId": "e9f40564-780f-4428-bafd-f3fb67135ad3"
      },
      "execution_count": 31,
      "outputs": [
        {
          "output_type": "display_data",
          "data": {
            "text/plain": [
              "<Figure size 1000x600 with 1 Axes>"
            ],
            "image/png": "[encoded data removed]"
          },
          "metadata": {}
        }
      ]
    }
  ]
}